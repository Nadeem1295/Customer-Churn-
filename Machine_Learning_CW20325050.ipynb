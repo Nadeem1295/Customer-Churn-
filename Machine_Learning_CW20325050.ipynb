{
  "cells": [
    {
      "cell_type": "code",
      "execution_count": null,
      "metadata": {
        "id": "Lzg5Kvr4OL-t"
      },
      "outputs": [],
      "source": [
        "\n",
        "import sqlite3\n",
        "import os.path\n",
        "import gdown\n",
        "# Connect to your google drive where the database files are located\n",
        "from google.colab import drive\n",
        "drive.mount('/content/drive')\n",
        "# Check if the data file we need is there, otherwise download it\n",
        "if not os.path.isfile('/content/drive/MyDrive/ml15.sqlite'):\n",
        "    print('The required data was not already in your google drive. It will now be downloaded.')\n",
        "    url = 'https://dl.dropboxusercontent.com/s/owbcf81aw6z45xe/ml15.sqlite'\n",
        "    output = '/content/drive/MyDrive/ml15.sqlite'\n",
        "    gdown.download(url, output, quiet=False)\n"
      ]
    },
    {
      "cell_type": "code",
      "execution_count": null,
      "metadata": {
        "id": "wL-bDu1cO-aT",
        "colab": {
          "base_uri": "https://localhost:8080/",
          "height": 35
        },
        "outputId": "c765f4af-55c7-4285-cd75-7840bb03fefa"
      },
      "outputs": [
        {
          "output_type": "execute_result",
          "data": {
            "text/plain": [
              "'Connected: @drive/MyDrive/ml15.sqlite'"
            ],
            "application/vnd.google.colaboratory.intrinsic+json": {
              "type": "string"
            }
          },
          "metadata": {},
          "execution_count": 2
        }
      ],
      "source": [
        "\n",
        "%load_ext sql\n",
        "%sql sqlite:///drive/MyDrive/ml15.sqlite"
      ]
    },
    {
      "cell_type": "markdown",
      "source": [
        "1. Familiarizing with available data\n"
      ],
      "metadata": {
        "id": "p2ABcX0OA4mF"
      }
    },
    {
      "cell_type": "code",
      "execution_count": null,
      "metadata": {
        "id": "RdaMHfOWOUa3"
      },
      "outputs": [],
      "source": [
        "# Importing basic libraries \n",
        "import pandas as pd\n",
        "import numpy as np\n",
        "import matplotlib.pyplot as plt\n",
        "import seaborn as sns"
      ]
    },
    {
      "cell_type": "code",
      "execution_count": null,
      "metadata": {
        "id": "fsoJxIjIO-cu",
        "colab": {
          "base_uri": "https://localhost:8080/",
          "height": 502
        },
        "outputId": "10af8d6f-ad59-44b0-869a-1995cea28e70"
      },
      "outputs": [
        {
          "output_type": "stream",
          "name": "stdout",
          "text": [
            " * sqlite:///drive/MyDrive/ml15.sqlite\n",
            "Done.\n"
          ]
        },
        {
          "output_type": "execute_result",
          "data": {
            "text/plain": [
              "[('customers',),\n",
              " ('products',),\n",
              " ('receipt_lines',),\n",
              " ('receipts',),\n",
              " ('stores',),\n",
              " ('receipts',),\n",
              " ('receipts',),\n",
              " ('receipts',),\n",
              " ('receipt_lines',),\n",
              " ('receipt_lines',),\n",
              " ('receipt_lines',),\n",
              " ('newtable',),\n",
              " ('new_receipt_lines',),\n",
              " ('new_sum_table',),\n",
              " ('Merged_table',),\n",
              " ('Merged_table2',),\n",
              " ('Merged_table3',),\n",
              " ('Merged_table4',),\n",
              " ('sum_table',),\n",
              " ('Merged_data',)]"
            ],
            "text/html": [
              "<table>\n",
              "    <thead>\n",
              "        <tr>\n",
              "            <th>tbl_name</th>\n",
              "        </tr>\n",
              "    </thead>\n",
              "    <tbody>\n",
              "        <tr>\n",
              "            <td>customers</td>\n",
              "        </tr>\n",
              "        <tr>\n",
              "            <td>products</td>\n",
              "        </tr>\n",
              "        <tr>\n",
              "            <td>receipt_lines</td>\n",
              "        </tr>\n",
              "        <tr>\n",
              "            <td>receipts</td>\n",
              "        </tr>\n",
              "        <tr>\n",
              "            <td>stores</td>\n",
              "        </tr>\n",
              "        <tr>\n",
              "            <td>receipts</td>\n",
              "        </tr>\n",
              "        <tr>\n",
              "            <td>receipts</td>\n",
              "        </tr>\n",
              "        <tr>\n",
              "            <td>receipts</td>\n",
              "        </tr>\n",
              "        <tr>\n",
              "            <td>receipt_lines</td>\n",
              "        </tr>\n",
              "        <tr>\n",
              "            <td>receipt_lines</td>\n",
              "        </tr>\n",
              "        <tr>\n",
              "            <td>receipt_lines</td>\n",
              "        </tr>\n",
              "        <tr>\n",
              "            <td>newtable</td>\n",
              "        </tr>\n",
              "        <tr>\n",
              "            <td>new_receipt_lines</td>\n",
              "        </tr>\n",
              "        <tr>\n",
              "            <td>new_sum_table</td>\n",
              "        </tr>\n",
              "        <tr>\n",
              "            <td>Merged_table</td>\n",
              "        </tr>\n",
              "        <tr>\n",
              "            <td>Merged_table2</td>\n",
              "        </tr>\n",
              "        <tr>\n",
              "            <td>Merged_table3</td>\n",
              "        </tr>\n",
              "        <tr>\n",
              "            <td>Merged_table4</td>\n",
              "        </tr>\n",
              "        <tr>\n",
              "            <td>sum_table</td>\n",
              "        </tr>\n",
              "        <tr>\n",
              "            <td>Merged_data</td>\n",
              "        </tr>\n",
              "    </tbody>\n",
              "</table>"
            ]
          },
          "metadata": {},
          "execution_count": 4
        }
      ],
      "source": [
        "%%sql\n",
        "-- show all tables\n",
        "SELECT tbl_name FROM sqlite_master"
      ]
    },
    {
      "cell_type": "code",
      "source": [
        "sql=%%sql SELECT * from receipt_lines\n",
        "sql.DataFrame()"
      ],
      "metadata": {
        "id": "xNFy-Tso7GM3",
        "colab": {
          "base_uri": "https://localhost:8080/",
          "height": 458
        },
        "outputId": "1012c85c-2b26-4974-b8ed-cd802bab4b1a"
      },
      "execution_count": null,
      "outputs": [
        {
          "output_type": "stream",
          "name": "stdout",
          "text": [
            " * sqlite:///drive/MyDrive/ml15.sqlite\n",
            "Done.\n"
          ]
        },
        {
          "output_type": "execute_result",
          "data": {
            "text/plain": [
              "        receipt_line_id  receipt_id  product_code  qty       value\n",
              "0                683951       48773         15185    1        3.09\n",
              "1                727185       46058         15185    1        3.09\n",
              "2                727194       46007         15185    1        3.09\n",
              "3                727176       10161         15185    1        3.09\n",
              "4                260982       12267          8600    1        0.69\n",
              "...                 ...         ...           ...  ...         ...\n",
              "718831           168854       11644          9882    1        1.99\n",
              "718832           536066       46304         12437    1  9999999.00\n",
              "718833           536064       46304          7871    1  9999999.00\n",
              "718834           536065       46304          7487    2  9999999.00\n",
              "718835           536063       46304          6892    1  9999999.00\n",
              "\n",
              "[718836 rows x 5 columns]"
            ],
            "text/html": [
              "\n",
              "  <div id=\"df-d7690f18-ac28-4aa2-8abf-8abbf50e5f37\">\n",
              "    <div class=\"colab-df-container\">\n",
              "      <div>\n",
              "<style scoped>\n",
              "    .dataframe tbody tr th:only-of-type {\n",
              "        vertical-align: middle;\n",
              "    }\n",
              "\n",
              "    .dataframe tbody tr th {\n",
              "        vertical-align: top;\n",
              "    }\n",
              "\n",
              "    .dataframe thead th {\n",
              "        text-align: right;\n",
              "    }\n",
              "</style>\n",
              "<table border=\"1\" class=\"dataframe\">\n",
              "  <thead>\n",
              "    <tr style=\"text-align: right;\">\n",
              "      <th></th>\n",
              "      <th>receipt_line_id</th>\n",
              "      <th>receipt_id</th>\n",
              "      <th>product_code</th>\n",
              "      <th>qty</th>\n",
              "      <th>value</th>\n",
              "    </tr>\n",
              "  </thead>\n",
              "  <tbody>\n",
              "    <tr>\n",
              "      <th>0</th>\n",
              "      <td>683951</td>\n",
              "      <td>48773</td>\n",
              "      <td>15185</td>\n",
              "      <td>1</td>\n",
              "      <td>3.09</td>\n",
              "    </tr>\n",
              "    <tr>\n",
              "      <th>1</th>\n",
              "      <td>727185</td>\n",
              "      <td>46058</td>\n",
              "      <td>15185</td>\n",
              "      <td>1</td>\n",
              "      <td>3.09</td>\n",
              "    </tr>\n",
              "    <tr>\n",
              "      <th>2</th>\n",
              "      <td>727194</td>\n",
              "      <td>46007</td>\n",
              "      <td>15185</td>\n",
              "      <td>1</td>\n",
              "      <td>3.09</td>\n",
              "    </tr>\n",
              "    <tr>\n",
              "      <th>3</th>\n",
              "      <td>727176</td>\n",
              "      <td>10161</td>\n",
              "      <td>15185</td>\n",
              "      <td>1</td>\n",
              "      <td>3.09</td>\n",
              "    </tr>\n",
              "    <tr>\n",
              "      <th>4</th>\n",
              "      <td>260982</td>\n",
              "      <td>12267</td>\n",
              "      <td>8600</td>\n",
              "      <td>1</td>\n",
              "      <td>0.69</td>\n",
              "    </tr>\n",
              "    <tr>\n",
              "      <th>...</th>\n",
              "      <td>...</td>\n",
              "      <td>...</td>\n",
              "      <td>...</td>\n",
              "      <td>...</td>\n",
              "      <td>...</td>\n",
              "    </tr>\n",
              "    <tr>\n",
              "      <th>718831</th>\n",
              "      <td>168854</td>\n",
              "      <td>11644</td>\n",
              "      <td>9882</td>\n",
              "      <td>1</td>\n",
              "      <td>1.99</td>\n",
              "    </tr>\n",
              "    <tr>\n",
              "      <th>718832</th>\n",
              "      <td>536066</td>\n",
              "      <td>46304</td>\n",
              "      <td>12437</td>\n",
              "      <td>1</td>\n",
              "      <td>9999999.00</td>\n",
              "    </tr>\n",
              "    <tr>\n",
              "      <th>718833</th>\n",
              "      <td>536064</td>\n",
              "      <td>46304</td>\n",
              "      <td>7871</td>\n",
              "      <td>1</td>\n",
              "      <td>9999999.00</td>\n",
              "    </tr>\n",
              "    <tr>\n",
              "      <th>718834</th>\n",
              "      <td>536065</td>\n",
              "      <td>46304</td>\n",
              "      <td>7487</td>\n",
              "      <td>2</td>\n",
              "      <td>9999999.00</td>\n",
              "    </tr>\n",
              "    <tr>\n",
              "      <th>718835</th>\n",
              "      <td>536063</td>\n",
              "      <td>46304</td>\n",
              "      <td>6892</td>\n",
              "      <td>1</td>\n",
              "      <td>9999999.00</td>\n",
              "    </tr>\n",
              "  </tbody>\n",
              "</table>\n",
              "<p>718836 rows × 5 columns</p>\n",
              "</div>\n",
              "      <button class=\"colab-df-convert\" onclick=\"convertToInteractive('df-d7690f18-ac28-4aa2-8abf-8abbf50e5f37')\"\n",
              "              title=\"Convert this dataframe to an interactive table.\"\n",
              "              style=\"display:none;\">\n",
              "        \n",
              "  <svg xmlns=\"http://www.w3.org/2000/svg\" height=\"24px\"viewBox=\"0 0 24 24\"\n",
              "       width=\"24px\">\n",
              "    <path d=\"M0 0h24v24H0V0z\" fill=\"none\"/>\n",
              "    <path d=\"M18.56 5.44l.94 2.06.94-2.06 2.06-.94-2.06-.94-.94-2.06-.94 2.06-2.06.94zm-11 1L8.5 8.5l.94-2.06 2.06-.94-2.06-.94L8.5 2.5l-.94 2.06-2.06.94zm10 10l.94 2.06.94-2.06 2.06-.94-2.06-.94-.94-2.06-.94 2.06-2.06.94z\"/><path d=\"M17.41 7.96l-1.37-1.37c-.4-.4-.92-.59-1.43-.59-.52 0-1.04.2-1.43.59L10.3 9.45l-7.72 7.72c-.78.78-.78 2.05 0 2.83L4 21.41c.39.39.9.59 1.41.59.51 0 1.02-.2 1.41-.59l7.78-7.78 2.81-2.81c.8-.78.8-2.07 0-2.86zM5.41 20L4 18.59l7.72-7.72 1.47 1.35L5.41 20z\"/>\n",
              "  </svg>\n",
              "      </button>\n",
              "      \n",
              "  <style>\n",
              "    .colab-df-container {\n",
              "      display:flex;\n",
              "      flex-wrap:wrap;\n",
              "      gap: 12px;\n",
              "    }\n",
              "\n",
              "    .colab-df-convert {\n",
              "      background-color: #E8F0FE;\n",
              "      border: none;\n",
              "      border-radius: 50%;\n",
              "      cursor: pointer;\n",
              "      display: none;\n",
              "      fill: #1967D2;\n",
              "      height: 32px;\n",
              "      padding: 0 0 0 0;\n",
              "      width: 32px;\n",
              "    }\n",
              "\n",
              "    .colab-df-convert:hover {\n",
              "      background-color: #E2EBFA;\n",
              "      box-shadow: 0px 1px 2px rgba(60, 64, 67, 0.3), 0px 1px 3px 1px rgba(60, 64, 67, 0.15);\n",
              "      fill: #174EA6;\n",
              "    }\n",
              "\n",
              "    [theme=dark] .colab-df-convert {\n",
              "      background-color: #3B4455;\n",
              "      fill: #D2E3FC;\n",
              "    }\n",
              "\n",
              "    [theme=dark] .colab-df-convert:hover {\n",
              "      background-color: #434B5C;\n",
              "      box-shadow: 0px 1px 3px 1px rgba(0, 0, 0, 0.15);\n",
              "      filter: drop-shadow(0px 1px 2px rgba(0, 0, 0, 0.3));\n",
              "      fill: #FFFFFF;\n",
              "    }\n",
              "  </style>\n",
              "\n",
              "      <script>\n",
              "        const buttonEl =\n",
              "          document.querySelector('#df-d7690f18-ac28-4aa2-8abf-8abbf50e5f37 button.colab-df-convert');\n",
              "        buttonEl.style.display =\n",
              "          google.colab.kernel.accessAllowed ? 'block' : 'none';\n",
              "\n",
              "        async function convertToInteractive(key) {\n",
              "          const element = document.querySelector('#df-d7690f18-ac28-4aa2-8abf-8abbf50e5f37');\n",
              "          const dataTable =\n",
              "            await google.colab.kernel.invokeFunction('convertToInteractive',\n",
              "                                                     [key], {});\n",
              "          if (!dataTable) return;\n",
              "\n",
              "          const docLinkHtml = 'Like what you see? Visit the ' +\n",
              "            '<a target=\"_blank\" href=https://colab.research.google.com/notebooks/data_table.ipynb>data table notebook</a>'\n",
              "            + ' to learn more about interactive tables.';\n",
              "          element.innerHTML = '';\n",
              "          dataTable['output_type'] = 'display_data';\n",
              "          await google.colab.output.renderOutput(dataTable, element);\n",
              "          const docLink = document.createElement('div');\n",
              "          docLink.innerHTML = docLinkHtml;\n",
              "          element.appendChild(docLink);\n",
              "        }\n",
              "      </script>\n",
              "    </div>\n",
              "  </div>\n",
              "  "
            ]
          },
          "metadata": {},
          "execution_count": 5
        }
      ]
    },
    {
      "cell_type": "code",
      "execution_count": null,
      "metadata": {
        "id": "JY7IZ9oHO-e9",
        "colab": {
          "base_uri": "https://localhost:8080/"
        },
        "outputId": "c9e2621d-1bcf-4bfb-840a-9f40a3c41200"
      },
      "outputs": [
        {
          "output_type": "stream",
          "name": "stdout",
          "text": [
            " * sqlite:///drive/MyDrive/ml15.sqlite\n",
            "(sqlite3.OperationalError) table sum_table already exists\n",
            "[SQL: create table sum_table as\n",
            "SELECT receipt_id, SUM(qty) as tot_qty,SUM(value) as tot_val\n",
            "from receipt_lines\n",
            "GROUP BY receipt_id]\n",
            "(Background on this error at: https://sqlalche.me/e/14/e3q8)\n"
          ]
        }
      ],
      "source": [
        "%%sql create table sum_table as\n",
        "SELECT receipt_id, SUM(qty) as tot_qty,SUM(value) as tot_val\n",
        "from receipt_lines\n",
        "GROUP BY receipt_id"
      ]
    },
    {
      "cell_type": "code",
      "execution_count": null,
      "metadata": {
        "id": "9fyGyZJ_O-hD",
        "colab": {
          "base_uri": "https://localhost:8080/",
          "height": 458
        },
        "outputId": "ddfc3bb7-60e6-4e11-9216-e37863b6756c"
      },
      "outputs": [
        {
          "output_type": "stream",
          "name": "stdout",
          "text": [
            " * sqlite:///drive/MyDrive/ml15.sqlite\n",
            "Done.\n"
          ]
        },
        {
          "output_type": "execute_result",
          "data": {
            "text/plain": [
              "       receipt_id  tot_qty  tot_val\n",
              "0               1        2    18.73\n",
              "1               2        5     4.09\n",
              "2               3       52    71.29\n",
              "3               4       13    19.83\n",
              "4               5        6    10.78\n",
              "...           ...      ...      ...\n",
              "69278       71136       14    24.17\n",
              "69279       71137        8     5.08\n",
              "69280       71138        3     2.39\n",
              "69281       71139        3    10.24\n",
              "69282       71140       12    13.33\n",
              "\n",
              "[69283 rows x 3 columns]"
            ],
            "text/html": [
              "\n",
              "  <div id=\"df-609ea677-1656-4593-85e0-a42fe08afff9\">\n",
              "    <div class=\"colab-df-container\">\n",
              "      <div>\n",
              "<style scoped>\n",
              "    .dataframe tbody tr th:only-of-type {\n",
              "        vertical-align: middle;\n",
              "    }\n",
              "\n",
              "    .dataframe tbody tr th {\n",
              "        vertical-align: top;\n",
              "    }\n",
              "\n",
              "    .dataframe thead th {\n",
              "        text-align: right;\n",
              "    }\n",
              "</style>\n",
              "<table border=\"1\" class=\"dataframe\">\n",
              "  <thead>\n",
              "    <tr style=\"text-align: right;\">\n",
              "      <th></th>\n",
              "      <th>receipt_id</th>\n",
              "      <th>tot_qty</th>\n",
              "      <th>tot_val</th>\n",
              "    </tr>\n",
              "  </thead>\n",
              "  <tbody>\n",
              "    <tr>\n",
              "      <th>0</th>\n",
              "      <td>1</td>\n",
              "      <td>2</td>\n",
              "      <td>18.73</td>\n",
              "    </tr>\n",
              "    <tr>\n",
              "      <th>1</th>\n",
              "      <td>2</td>\n",
              "      <td>5</td>\n",
              "      <td>4.09</td>\n",
              "    </tr>\n",
              "    <tr>\n",
              "      <th>2</th>\n",
              "      <td>3</td>\n",
              "      <td>52</td>\n",
              "      <td>71.29</td>\n",
              "    </tr>\n",
              "    <tr>\n",
              "      <th>3</th>\n",
              "      <td>4</td>\n",
              "      <td>13</td>\n",
              "      <td>19.83</td>\n",
              "    </tr>\n",
              "    <tr>\n",
              "      <th>4</th>\n",
              "      <td>5</td>\n",
              "      <td>6</td>\n",
              "      <td>10.78</td>\n",
              "    </tr>\n",
              "    <tr>\n",
              "      <th>...</th>\n",
              "      <td>...</td>\n",
              "      <td>...</td>\n",
              "      <td>...</td>\n",
              "    </tr>\n",
              "    <tr>\n",
              "      <th>69278</th>\n",
              "      <td>71136</td>\n",
              "      <td>14</td>\n",
              "      <td>24.17</td>\n",
              "    </tr>\n",
              "    <tr>\n",
              "      <th>69279</th>\n",
              "      <td>71137</td>\n",
              "      <td>8</td>\n",
              "      <td>5.08</td>\n",
              "    </tr>\n",
              "    <tr>\n",
              "      <th>69280</th>\n",
              "      <td>71138</td>\n",
              "      <td>3</td>\n",
              "      <td>2.39</td>\n",
              "    </tr>\n",
              "    <tr>\n",
              "      <th>69281</th>\n",
              "      <td>71139</td>\n",
              "      <td>3</td>\n",
              "      <td>10.24</td>\n",
              "    </tr>\n",
              "    <tr>\n",
              "      <th>69282</th>\n",
              "      <td>71140</td>\n",
              "      <td>12</td>\n",
              "      <td>13.33</td>\n",
              "    </tr>\n",
              "  </tbody>\n",
              "</table>\n",
              "<p>69283 rows × 3 columns</p>\n",
              "</div>\n",
              "      <button class=\"colab-df-convert\" onclick=\"convertToInteractive('df-609ea677-1656-4593-85e0-a42fe08afff9')\"\n",
              "              title=\"Convert this dataframe to an interactive table.\"\n",
              "              style=\"display:none;\">\n",
              "        \n",
              "  <svg xmlns=\"http://www.w3.org/2000/svg\" height=\"24px\"viewBox=\"0 0 24 24\"\n",
              "       width=\"24px\">\n",
              "    <path d=\"M0 0h24v24H0V0z\" fill=\"none\"/>\n",
              "    <path d=\"M18.56 5.44l.94 2.06.94-2.06 2.06-.94-2.06-.94-.94-2.06-.94 2.06-2.06.94zm-11 1L8.5 8.5l.94-2.06 2.06-.94-2.06-.94L8.5 2.5l-.94 2.06-2.06.94zm10 10l.94 2.06.94-2.06 2.06-.94-2.06-.94-.94-2.06-.94 2.06-2.06.94z\"/><path d=\"M17.41 7.96l-1.37-1.37c-.4-.4-.92-.59-1.43-.59-.52 0-1.04.2-1.43.59L10.3 9.45l-7.72 7.72c-.78.78-.78 2.05 0 2.83L4 21.41c.39.39.9.59 1.41.59.51 0 1.02-.2 1.41-.59l7.78-7.78 2.81-2.81c.8-.78.8-2.07 0-2.86zM5.41 20L4 18.59l7.72-7.72 1.47 1.35L5.41 20z\"/>\n",
              "  </svg>\n",
              "      </button>\n",
              "      \n",
              "  <style>\n",
              "    .colab-df-container {\n",
              "      display:flex;\n",
              "      flex-wrap:wrap;\n",
              "      gap: 12px;\n",
              "    }\n",
              "\n",
              "    .colab-df-convert {\n",
              "      background-color: #E8F0FE;\n",
              "      border: none;\n",
              "      border-radius: 50%;\n",
              "      cursor: pointer;\n",
              "      display: none;\n",
              "      fill: #1967D2;\n",
              "      height: 32px;\n",
              "      padding: 0 0 0 0;\n",
              "      width: 32px;\n",
              "    }\n",
              "\n",
              "    .colab-df-convert:hover {\n",
              "      background-color: #E2EBFA;\n",
              "      box-shadow: 0px 1px 2px rgba(60, 64, 67, 0.3), 0px 1px 3px 1px rgba(60, 64, 67, 0.15);\n",
              "      fill: #174EA6;\n",
              "    }\n",
              "\n",
              "    [theme=dark] .colab-df-convert {\n",
              "      background-color: #3B4455;\n",
              "      fill: #D2E3FC;\n",
              "    }\n",
              "\n",
              "    [theme=dark] .colab-df-convert:hover {\n",
              "      background-color: #434B5C;\n",
              "      box-shadow: 0px 1px 3px 1px rgba(0, 0, 0, 0.15);\n",
              "      filter: drop-shadow(0px 1px 2px rgba(0, 0, 0, 0.3));\n",
              "      fill: #FFFFFF;\n",
              "    }\n",
              "  </style>\n",
              "\n",
              "      <script>\n",
              "        const buttonEl =\n",
              "          document.querySelector('#df-609ea677-1656-4593-85e0-a42fe08afff9 button.colab-df-convert');\n",
              "        buttonEl.style.display =\n",
              "          google.colab.kernel.accessAllowed ? 'block' : 'none';\n",
              "\n",
              "        async function convertToInteractive(key) {\n",
              "          const element = document.querySelector('#df-609ea677-1656-4593-85e0-a42fe08afff9');\n",
              "          const dataTable =\n",
              "            await google.colab.kernel.invokeFunction('convertToInteractive',\n",
              "                                                     [key], {});\n",
              "          if (!dataTable) return;\n",
              "\n",
              "          const docLinkHtml = 'Like what you see? Visit the ' +\n",
              "            '<a target=\"_blank\" href=https://colab.research.google.com/notebooks/data_table.ipynb>data table notebook</a>'\n",
              "            + ' to learn more about interactive tables.';\n",
              "          element.innerHTML = '';\n",
              "          dataTable['output_type'] = 'display_data';\n",
              "          await google.colab.output.renderOutput(dataTable, element);\n",
              "          const docLink = document.createElement('div');\n",
              "          docLink.innerHTML = docLinkHtml;\n",
              "          element.appendChild(docLink);\n",
              "        }\n",
              "      </script>\n",
              "    </div>\n",
              "  </div>\n",
              "  "
            ]
          },
          "metadata": {},
          "execution_count": 7
        }
      ],
      "source": [
        "sql = \"\"\"\n",
        "SELECT * \n",
        "FROM sum_table\n",
        "\"\"\"\n",
        "df_new_rec=%sql {sql}\n",
        "df_new_rec.DataFrame()"
      ]
    },
    {
      "cell_type": "code",
      "execution_count": null,
      "metadata": {
        "id": "LOYyackkOOpU",
        "colab": {
          "base_uri": "https://localhost:8080/"
        },
        "outputId": "07d1469d-ba0f-4be6-8897-26c6da89d305"
      },
      "outputs": [
        {
          "output_type": "stream",
          "name": "stdout",
          "text": [
            " * sqlite:///drive/MyDrive/ml15.sqlite\n",
            "(sqlite3.OperationalError) table \"Merged_data\" already exists\n",
            "[SQL: CREATE TABLE \"Merged_data\" ('receipt_id' int, \"purchased_at\" date, 'customer_id'int, 'tot_qty' int, \"tot_val\" int, 'day' int)]\n",
            "(Background on this error at: https://sqlalche.me/e/14/e3q8)\n"
          ]
        }
      ],
      "source": [
        "%%sql \n",
        "CREATE TABLE \"Merged_data\" ('receipt_id' int, \"purchased_at\" date, 'customer_id'int, 'tot_qty' int, \"tot_val\" int, 'day' int)"
      ]
    },
    {
      "cell_type": "code",
      "execution_count": null,
      "metadata": {
        "id": "PJgmL8-wOOrf",
        "colab": {
          "base_uri": "https://localhost:8080/"
        },
        "outputId": "f5da6d41-e85c-4e6f-8e98-c82041721d36"
      },
      "outputs": [
        {
          "output_type": "stream",
          "name": "stdout",
          "text": [
            " * sqlite:///drive/MyDrive/ml15.sqlite\n",
            "69283 rows affected.\n"
          ]
        },
        {
          "output_type": "execute_result",
          "data": {
            "text/plain": [
              "[]"
            ]
          },
          "metadata": {},
          "execution_count": 9
        }
      ],
      "source": [
        "%%sql\n",
        "INSERT INTO 'Merged_data'\n",
        "SELECT receipts.receipt_id, purchased_at, customer_id, tot_qty, tot_val, julianday(purchased_at)-julianday('2020-07-22') AS data\n",
        "FROM receipts\n",
        "INNER JOIN sum_table ON receipts.receipt_id=sum_table.receipt_id\n",
        "ORDER BY purchased_at"
      ]
    },
    {
      "cell_type": "code",
      "execution_count": null,
      "metadata": {
        "id": "Hj_TYmxiOOtm",
        "colab": {
          "base_uri": "https://localhost:8080/",
          "height": 458
        },
        "outputId": "44e72cf7-b74e-44b3-e058-1ed974e81aba"
      },
      "outputs": [
        {
          "output_type": "stream",
          "name": "stdout",
          "text": [
            " * sqlite:///drive/MyDrive/ml15.sqlite\n",
            "Done.\n"
          ]
        },
        {
          "output_type": "execute_result",
          "data": {
            "text/plain": [
              "         receipt_id         purchased_at  customer_id  tot_qty  tot_val  day\n",
              "0               244  2020-07-22 00:00:00        15547       17    33.82    0\n",
              "1              1839  2020-07-22 00:00:00         2794       36    49.37    0\n",
              "2              1964  2020-07-22 00:00:00        13396        2     5.14    0\n",
              "3              2866  2020-07-22 00:00:00         5948        8    30.21    0\n",
              "4              3541  2020-07-22 00:00:00         4157       20    74.24    0\n",
              "...             ...                  ...          ...      ...      ...  ...\n",
              "1316372       67416  2022-03-22 00:00:00         2695        5     8.83  608\n",
              "1316373       67568  2022-03-22 00:00:00         2505       27    35.20  608\n",
              "1316374       69088  2022-03-22 00:00:00        14269        7     6.76  608\n",
              "1316375       69225  2022-03-22 00:00:00          888        4    13.53  608\n",
              "1316376       69480  2022-03-22 00:00:00        13790        4     7.09  608\n",
              "\n",
              "[1316377 rows x 6 columns]"
            ],
            "text/html": [
              "\n",
              "  <div id=\"df-f0420f3f-6dad-47e0-b7ad-fead982de6b1\">\n",
              "    <div class=\"colab-df-container\">\n",
              "      <div>\n",
              "<style scoped>\n",
              "    .dataframe tbody tr th:only-of-type {\n",
              "        vertical-align: middle;\n",
              "    }\n",
              "\n",
              "    .dataframe tbody tr th {\n",
              "        vertical-align: top;\n",
              "    }\n",
              "\n",
              "    .dataframe thead th {\n",
              "        text-align: right;\n",
              "    }\n",
              "</style>\n",
              "<table border=\"1\" class=\"dataframe\">\n",
              "  <thead>\n",
              "    <tr style=\"text-align: right;\">\n",
              "      <th></th>\n",
              "      <th>receipt_id</th>\n",
              "      <th>purchased_at</th>\n",
              "      <th>customer_id</th>\n",
              "      <th>tot_qty</th>\n",
              "      <th>tot_val</th>\n",
              "      <th>day</th>\n",
              "    </tr>\n",
              "  </thead>\n",
              "  <tbody>\n",
              "    <tr>\n",
              "      <th>0</th>\n",
              "      <td>244</td>\n",
              "      <td>2020-07-22 00:00:00</td>\n",
              "      <td>15547</td>\n",
              "      <td>17</td>\n",
              "      <td>33.82</td>\n",
              "      <td>0</td>\n",
              "    </tr>\n",
              "    <tr>\n",
              "      <th>1</th>\n",
              "      <td>1839</td>\n",
              "      <td>2020-07-22 00:00:00</td>\n",
              "      <td>2794</td>\n",
              "      <td>36</td>\n",
              "      <td>49.37</td>\n",
              "      <td>0</td>\n",
              "    </tr>\n",
              "    <tr>\n",
              "      <th>2</th>\n",
              "      <td>1964</td>\n",
              "      <td>2020-07-22 00:00:00</td>\n",
              "      <td>13396</td>\n",
              "      <td>2</td>\n",
              "      <td>5.14</td>\n",
              "      <td>0</td>\n",
              "    </tr>\n",
              "    <tr>\n",
              "      <th>3</th>\n",
              "      <td>2866</td>\n",
              "      <td>2020-07-22 00:00:00</td>\n",
              "      <td>5948</td>\n",
              "      <td>8</td>\n",
              "      <td>30.21</td>\n",
              "      <td>0</td>\n",
              "    </tr>\n",
              "    <tr>\n",
              "      <th>4</th>\n",
              "      <td>3541</td>\n",
              "      <td>2020-07-22 00:00:00</td>\n",
              "      <td>4157</td>\n",
              "      <td>20</td>\n",
              "      <td>74.24</td>\n",
              "      <td>0</td>\n",
              "    </tr>\n",
              "    <tr>\n",
              "      <th>...</th>\n",
              "      <td>...</td>\n",
              "      <td>...</td>\n",
              "      <td>...</td>\n",
              "      <td>...</td>\n",
              "      <td>...</td>\n",
              "      <td>...</td>\n",
              "    </tr>\n",
              "    <tr>\n",
              "      <th>1316372</th>\n",
              "      <td>67416</td>\n",
              "      <td>2022-03-22 00:00:00</td>\n",
              "      <td>2695</td>\n",
              "      <td>5</td>\n",
              "      <td>8.83</td>\n",
              "      <td>608</td>\n",
              "    </tr>\n",
              "    <tr>\n",
              "      <th>1316373</th>\n",
              "      <td>67568</td>\n",
              "      <td>2022-03-22 00:00:00</td>\n",
              "      <td>2505</td>\n",
              "      <td>27</td>\n",
              "      <td>35.20</td>\n",
              "      <td>608</td>\n",
              "    </tr>\n",
              "    <tr>\n",
              "      <th>1316374</th>\n",
              "      <td>69088</td>\n",
              "      <td>2022-03-22 00:00:00</td>\n",
              "      <td>14269</td>\n",
              "      <td>7</td>\n",
              "      <td>6.76</td>\n",
              "      <td>608</td>\n",
              "    </tr>\n",
              "    <tr>\n",
              "      <th>1316375</th>\n",
              "      <td>69225</td>\n",
              "      <td>2022-03-22 00:00:00</td>\n",
              "      <td>888</td>\n",
              "      <td>4</td>\n",
              "      <td>13.53</td>\n",
              "      <td>608</td>\n",
              "    </tr>\n",
              "    <tr>\n",
              "      <th>1316376</th>\n",
              "      <td>69480</td>\n",
              "      <td>2022-03-22 00:00:00</td>\n",
              "      <td>13790</td>\n",
              "      <td>4</td>\n",
              "      <td>7.09</td>\n",
              "      <td>608</td>\n",
              "    </tr>\n",
              "  </tbody>\n",
              "</table>\n",
              "<p>1316377 rows × 6 columns</p>\n",
              "</div>\n",
              "      <button class=\"colab-df-convert\" onclick=\"convertToInteractive('df-f0420f3f-6dad-47e0-b7ad-fead982de6b1')\"\n",
              "              title=\"Convert this dataframe to an interactive table.\"\n",
              "              style=\"display:none;\">\n",
              "        \n",
              "  <svg xmlns=\"http://www.w3.org/2000/svg\" height=\"24px\"viewBox=\"0 0 24 24\"\n",
              "       width=\"24px\">\n",
              "    <path d=\"M0 0h24v24H0V0z\" fill=\"none\"/>\n",
              "    <path d=\"M18.56 5.44l.94 2.06.94-2.06 2.06-.94-2.06-.94-.94-2.06-.94 2.06-2.06.94zm-11 1L8.5 8.5l.94-2.06 2.06-.94-2.06-.94L8.5 2.5l-.94 2.06-2.06.94zm10 10l.94 2.06.94-2.06 2.06-.94-2.06-.94-.94-2.06-.94 2.06-2.06.94z\"/><path d=\"M17.41 7.96l-1.37-1.37c-.4-.4-.92-.59-1.43-.59-.52 0-1.04.2-1.43.59L10.3 9.45l-7.72 7.72c-.78.78-.78 2.05 0 2.83L4 21.41c.39.39.9.59 1.41.59.51 0 1.02-.2 1.41-.59l7.78-7.78 2.81-2.81c.8-.78.8-2.07 0-2.86zM5.41 20L4 18.59l7.72-7.72 1.47 1.35L5.41 20z\"/>\n",
              "  </svg>\n",
              "      </button>\n",
              "      \n",
              "  <style>\n",
              "    .colab-df-container {\n",
              "      display:flex;\n",
              "      flex-wrap:wrap;\n",
              "      gap: 12px;\n",
              "    }\n",
              "\n",
              "    .colab-df-convert {\n",
              "      background-color: #E8F0FE;\n",
              "      border: none;\n",
              "      border-radius: 50%;\n",
              "      cursor: pointer;\n",
              "      display: none;\n",
              "      fill: #1967D2;\n",
              "      height: 32px;\n",
              "      padding: 0 0 0 0;\n",
              "      width: 32px;\n",
              "    }\n",
              "\n",
              "    .colab-df-convert:hover {\n",
              "      background-color: #E2EBFA;\n",
              "      box-shadow: 0px 1px 2px rgba(60, 64, 67, 0.3), 0px 1px 3px 1px rgba(60, 64, 67, 0.15);\n",
              "      fill: #174EA6;\n",
              "    }\n",
              "\n",
              "    [theme=dark] .colab-df-convert {\n",
              "      background-color: #3B4455;\n",
              "      fill: #D2E3FC;\n",
              "    }\n",
              "\n",
              "    [theme=dark] .colab-df-convert:hover {\n",
              "      background-color: #434B5C;\n",
              "      box-shadow: 0px 1px 3px 1px rgba(0, 0, 0, 0.15);\n",
              "      filter: drop-shadow(0px 1px 2px rgba(0, 0, 0, 0.3));\n",
              "      fill: #FFFFFF;\n",
              "    }\n",
              "  </style>\n",
              "\n",
              "      <script>\n",
              "        const buttonEl =\n",
              "          document.querySelector('#df-f0420f3f-6dad-47e0-b7ad-fead982de6b1 button.colab-df-convert');\n",
              "        buttonEl.style.display =\n",
              "          google.colab.kernel.accessAllowed ? 'block' : 'none';\n",
              "\n",
              "        async function convertToInteractive(key) {\n",
              "          const element = document.querySelector('#df-f0420f3f-6dad-47e0-b7ad-fead982de6b1');\n",
              "          const dataTable =\n",
              "            await google.colab.kernel.invokeFunction('convertToInteractive',\n",
              "                                                     [key], {});\n",
              "          if (!dataTable) return;\n",
              "\n",
              "          const docLinkHtml = 'Like what you see? Visit the ' +\n",
              "            '<a target=\"_blank\" href=https://colab.research.google.com/notebooks/data_table.ipynb>data table notebook</a>'\n",
              "            + ' to learn more about interactive tables.';\n",
              "          element.innerHTML = '';\n",
              "          dataTable['output_type'] = 'display_data';\n",
              "          await google.colab.output.renderOutput(dataTable, element);\n",
              "          const docLink = document.createElement('div');\n",
              "          docLink.innerHTML = docLinkHtml;\n",
              "          element.appendChild(docLink);\n",
              "        }\n",
              "      </script>\n",
              "    </div>\n",
              "  </div>\n",
              "  "
            ]
          },
          "metadata": {},
          "execution_count": 10
        }
      ],
      "source": [
        "# Proceeding with creating temporal data \n",
        "df=%%sql SELECT * FROM Merged_data\n",
        "df.DataFrame()"
      ]
    },
    {
      "cell_type": "code",
      "execution_count": null,
      "metadata": {
        "id": "YNAJMbMPMHn_"
      },
      "outputs": [],
      "source": [
        "df_merged = df.DataFrame()"
      ]
    },
    {
      "cell_type": "code",
      "source": [
        "df_merged.head()"
      ],
      "metadata": {
        "id": "DU4jI8fRxh_G",
        "colab": {
          "base_uri": "https://localhost:8080/",
          "height": 206
        },
        "outputId": "216d6898-3862-4d43-ea03-02f4fc4aa9da"
      },
      "execution_count": null,
      "outputs": [
        {
          "output_type": "execute_result",
          "data": {
            "text/plain": [
              "   receipt_id         purchased_at  customer_id  tot_qty  tot_val  day\n",
              "0         244  2020-07-22 00:00:00        15547       17    33.82    0\n",
              "1        1839  2020-07-22 00:00:00         2794       36    49.37    0\n",
              "2        1964  2020-07-22 00:00:00        13396        2     5.14    0\n",
              "3        2866  2020-07-22 00:00:00         5948        8    30.21    0\n",
              "4        3541  2020-07-22 00:00:00         4157       20    74.24    0"
            ],
            "text/html": [
              "\n",
              "  <div id=\"df-06290160-05be-48b2-94e9-e3ddf6add0c6\">\n",
              "    <div class=\"colab-df-container\">\n",
              "      <div>\n",
              "<style scoped>\n",
              "    .dataframe tbody tr th:only-of-type {\n",
              "        vertical-align: middle;\n",
              "    }\n",
              "\n",
              "    .dataframe tbody tr th {\n",
              "        vertical-align: top;\n",
              "    }\n",
              "\n",
              "    .dataframe thead th {\n",
              "        text-align: right;\n",
              "    }\n",
              "</style>\n",
              "<table border=\"1\" class=\"dataframe\">\n",
              "  <thead>\n",
              "    <tr style=\"text-align: right;\">\n",
              "      <th></th>\n",
              "      <th>receipt_id</th>\n",
              "      <th>purchased_at</th>\n",
              "      <th>customer_id</th>\n",
              "      <th>tot_qty</th>\n",
              "      <th>tot_val</th>\n",
              "      <th>day</th>\n",
              "    </tr>\n",
              "  </thead>\n",
              "  <tbody>\n",
              "    <tr>\n",
              "      <th>0</th>\n",
              "      <td>244</td>\n",
              "      <td>2020-07-22 00:00:00</td>\n",
              "      <td>15547</td>\n",
              "      <td>17</td>\n",
              "      <td>33.82</td>\n",
              "      <td>0</td>\n",
              "    </tr>\n",
              "    <tr>\n",
              "      <th>1</th>\n",
              "      <td>1839</td>\n",
              "      <td>2020-07-22 00:00:00</td>\n",
              "      <td>2794</td>\n",
              "      <td>36</td>\n",
              "      <td>49.37</td>\n",
              "      <td>0</td>\n",
              "    </tr>\n",
              "    <tr>\n",
              "      <th>2</th>\n",
              "      <td>1964</td>\n",
              "      <td>2020-07-22 00:00:00</td>\n",
              "      <td>13396</td>\n",
              "      <td>2</td>\n",
              "      <td>5.14</td>\n",
              "      <td>0</td>\n",
              "    </tr>\n",
              "    <tr>\n",
              "      <th>3</th>\n",
              "      <td>2866</td>\n",
              "      <td>2020-07-22 00:00:00</td>\n",
              "      <td>5948</td>\n",
              "      <td>8</td>\n",
              "      <td>30.21</td>\n",
              "      <td>0</td>\n",
              "    </tr>\n",
              "    <tr>\n",
              "      <th>4</th>\n",
              "      <td>3541</td>\n",
              "      <td>2020-07-22 00:00:00</td>\n",
              "      <td>4157</td>\n",
              "      <td>20</td>\n",
              "      <td>74.24</td>\n",
              "      <td>0</td>\n",
              "    </tr>\n",
              "  </tbody>\n",
              "</table>\n",
              "</div>\n",
              "      <button class=\"colab-df-convert\" onclick=\"convertToInteractive('df-06290160-05be-48b2-94e9-e3ddf6add0c6')\"\n",
              "              title=\"Convert this dataframe to an interactive table.\"\n",
              "              style=\"display:none;\">\n",
              "        \n",
              "  <svg xmlns=\"http://www.w3.org/2000/svg\" height=\"24px\"viewBox=\"0 0 24 24\"\n",
              "       width=\"24px\">\n",
              "    <path d=\"M0 0h24v24H0V0z\" fill=\"none\"/>\n",
              "    <path d=\"M18.56 5.44l.94 2.06.94-2.06 2.06-.94-2.06-.94-.94-2.06-.94 2.06-2.06.94zm-11 1L8.5 8.5l.94-2.06 2.06-.94-2.06-.94L8.5 2.5l-.94 2.06-2.06.94zm10 10l.94 2.06.94-2.06 2.06-.94-2.06-.94-.94-2.06-.94 2.06-2.06.94z\"/><path d=\"M17.41 7.96l-1.37-1.37c-.4-.4-.92-.59-1.43-.59-.52 0-1.04.2-1.43.59L10.3 9.45l-7.72 7.72c-.78.78-.78 2.05 0 2.83L4 21.41c.39.39.9.59 1.41.59.51 0 1.02-.2 1.41-.59l7.78-7.78 2.81-2.81c.8-.78.8-2.07 0-2.86zM5.41 20L4 18.59l7.72-7.72 1.47 1.35L5.41 20z\"/>\n",
              "  </svg>\n",
              "      </button>\n",
              "      \n",
              "  <style>\n",
              "    .colab-df-container {\n",
              "      display:flex;\n",
              "      flex-wrap:wrap;\n",
              "      gap: 12px;\n",
              "    }\n",
              "\n",
              "    .colab-df-convert {\n",
              "      background-color: #E8F0FE;\n",
              "      border: none;\n",
              "      border-radius: 50%;\n",
              "      cursor: pointer;\n",
              "      display: none;\n",
              "      fill: #1967D2;\n",
              "      height: 32px;\n",
              "      padding: 0 0 0 0;\n",
              "      width: 32px;\n",
              "    }\n",
              "\n",
              "    .colab-df-convert:hover {\n",
              "      background-color: #E2EBFA;\n",
              "      box-shadow: 0px 1px 2px rgba(60, 64, 67, 0.3), 0px 1px 3px 1px rgba(60, 64, 67, 0.15);\n",
              "      fill: #174EA6;\n",
              "    }\n",
              "\n",
              "    [theme=dark] .colab-df-convert {\n",
              "      background-color: #3B4455;\n",
              "      fill: #D2E3FC;\n",
              "    }\n",
              "\n",
              "    [theme=dark] .colab-df-convert:hover {\n",
              "      background-color: #434B5C;\n",
              "      box-shadow: 0px 1px 3px 1px rgba(0, 0, 0, 0.15);\n",
              "      filter: drop-shadow(0px 1px 2px rgba(0, 0, 0, 0.3));\n",
              "      fill: #FFFFFF;\n",
              "    }\n",
              "  </style>\n",
              "\n",
              "      <script>\n",
              "        const buttonEl =\n",
              "          document.querySelector('#df-06290160-05be-48b2-94e9-e3ddf6add0c6 button.colab-df-convert');\n",
              "        buttonEl.style.display =\n",
              "          google.colab.kernel.accessAllowed ? 'block' : 'none';\n",
              "\n",
              "        async function convertToInteractive(key) {\n",
              "          const element = document.querySelector('#df-06290160-05be-48b2-94e9-e3ddf6add0c6');\n",
              "          const dataTable =\n",
              "            await google.colab.kernel.invokeFunction('convertToInteractive',\n",
              "                                                     [key], {});\n",
              "          if (!dataTable) return;\n",
              "\n",
              "          const docLinkHtml = 'Like what you see? Visit the ' +\n",
              "            '<a target=\"_blank\" href=https://colab.research.google.com/notebooks/data_table.ipynb>data table notebook</a>'\n",
              "            + ' to learn more about interactive tables.';\n",
              "          element.innerHTML = '';\n",
              "          dataTable['output_type'] = 'display_data';\n",
              "          await google.colab.output.renderOutput(dataTable, element);\n",
              "          const docLink = document.createElement('div');\n",
              "          docLink.innerHTML = docLinkHtml;\n",
              "          element.appendChild(docLink);\n",
              "        }\n",
              "      </script>\n",
              "    </div>\n",
              "  </div>\n",
              "  "
            ]
          },
          "metadata": {},
          "execution_count": 12
        }
      ]
    },
    {
      "cell_type": "code",
      "execution_count": null,
      "metadata": {
        "id": "MzNKYWi-T0gJ"
      },
      "outputs": [],
      "source": [
        "### Making Temporal Features\n"
      ]
    },
    {
      "cell_type": "code",
      "execution_count": null,
      "metadata": {
        "id": "NNTsP75hOOvo",
        "colab": {
          "base_uri": "https://localhost:8080/",
          "height": 96
        },
        "outputId": "9db70219-e89d-4cb9-b9b9-2c91f50d2c1a"
      },
      "outputs": [
        {
          "output_type": "stream",
          "name": "stdout",
          "text": [
            " * sqlite:///drive/MyDrive/ml15.sqlite\n",
            "Done.\n"
          ]
        },
        {
          "output_type": "execute_result",
          "data": {
            "text/plain": [
              "[(608.0,)]"
            ],
            "text/html": [
              "<table>\n",
              "    <thead>\n",
              "        <tr>\n",
              "            <th>JULIANDAY(max(purchased_at))-JULIANDAY(min(purchased_at))</th>\n",
              "        </tr>\n",
              "    </thead>\n",
              "    <tbody>\n",
              "        <tr>\n",
              "            <td>608.0</td>\n",
              "        </tr>\n",
              "    </tbody>\n",
              "</table>"
            ]
          },
          "metadata": {},
          "execution_count": 14
        }
      ],
      "source": [
        "%%sql \n",
        "SELECT JULIANDAY(max(purchased_at))-JULIANDAY(min(purchased_at))\n",
        "FROM Merged_data"
      ]
    },
    {
      "cell_type": "code",
      "execution_count": null,
      "metadata": {
        "id": "nDKOAPlGOOxv",
        "colab": {
          "base_uri": "https://localhost:8080/",
          "height": 96
        },
        "outputId": "e20574a3-5e89-44f7-be93-b3e03c724c6a"
      },
      "outputs": [
        {
          "output_type": "stream",
          "name": "stdout",
          "text": [
            " * sqlite:///drive/MyDrive/ml15.sqlite\n",
            "Done.\n"
          ]
        },
        {
          "output_type": "execute_result",
          "data": {
            "text/plain": [
              "[('2022-02-22',)]"
            ],
            "text/html": [
              "<table>\n",
              "    <thead>\n",
              "        <tr>\n",
              "            <th>date(&#x27;2022-03-22&#x27;,&#x27;-28 days&#x27;)</th>\n",
              "        </tr>\n",
              "    </thead>\n",
              "    <tbody>\n",
              "        <tr>\n",
              "            <td>2022-02-22</td>\n",
              "        </tr>\n",
              "    </tbody>\n",
              "</table>"
            ]
          },
          "metadata": {},
          "execution_count": 15
        }
      ],
      "source": [
        "%%sql\n",
        "SELECT date('2022-03-22','-28 days')"
      ]
    },
    {
      "cell_type": "code",
      "execution_count": null,
      "metadata": {
        "id": "ZbAO6Zh4OO0A"
      },
      "outputs": [],
      "source": [
        "ref_day= 608-28\n",
        "ref_date= 608-28"
      ]
    },
    {
      "cell_type": "markdown",
      "source": [
        "2. \n",
        " Making Temporal Features "
      ],
      "metadata": {
        "id": "Xa7Sgkx9-8Mp"
      }
    },
    {
      "cell_type": "code",
      "execution_count": null,
      "metadata": {
        "id": "uLr0A1FtOO-L"
      },
      "outputs": [],
      "source": [
        "# The get_dataset function creates input and output variables for machine learning tasks. Output is based on selected definition of churn, i.e., 28 days for me.\n",
        "# reference day is the period from which output feature is being derived. In other words, ref day = Max(date)-28 = 608-28 in my case\n",
        "# fi_v, fi_q, fi_f, fi_shop shows the weekly data of a cutomer(tumbling windom size) for total monetary value, total quantity and frequency of visits in the week. \n",
        "#Fourth variable for each periods is binary withe whether the person came for shopping or not. 1 shows he did not appear while\n",
        "#######It is important to note that we have indexed X and Y with cutomer_id. So, the column will appear while lookig at data frame, but it will not be part of features\n",
        "## Later on, after predictiong churn for future windom, beyong 608 days, we will trace back churners and non-churners using customer_id.\n",
        "\n",
        "def get_dataset( reference_day , tumbling_window_size, output_window_size ):\n",
        "    sql = \"\"\"\n",
        "    SELECT customer_id,\n",
        "     {ref_date} AS ref_day,\n",
        "      SUM(CASE WHEN day> {ref_date} AND day<={ref_date}+{ows} THEN tot_val ELSE 0 END) AS output_y,\n",
        "      SUM(CASE WHEN day> {ref_date} AND day <={ref_date}+{ows} THEN tot_qty ELSE 0 END) AS output_q,\n",
        "      COUNT(DISTINCT CASE WHEN day>{ref_date} AND day<={ref_date}+{ows} THEN day END) as output_f,\n",
        "      (CASE WHEN COUNT(DISTINCT CASE WHEN day>{ref_date} AND day<={ref_date}+{ows} THEN day END)==0 THEN 1 ELSE 0 END) as output_churn,\n",
        "\n",
        "      SUM(CASE WHEN day> {ref_date}-{ws} AND day <= {ref_date} THEN tot_val ELSE 0 END) as f1_v,\n",
        "      SUM(CASE WHEN day> {ref_date}-{ws} AND day <= {ref_date} THEN tot_qty ELSE 0 END) as f1_q,\n",
        "      COUNT(DISTINCT CASE WHEN day> {ref_date}-{ws} AND day <= {ref_date} THEN day END) as f1_f,\n",
        "      (CASE WHEN COUNT(DISTINCT CASE WHEN day> {ref_date}-{ws} AND day <= {ref_date} THEN day END)==0 THEN 1 ELSE 0 END) as w1_shop,\n",
        "\n",
        "      SUM(CASE WHEN day> {ref_date}-2*{ws} AND day <= {ref_date}-{ws} THEN tot_val ELSE 0 END) as f2_v,\n",
        "      SUM(CASE WHEN day> {ref_date}-2*{ws} AND day <= {ref_date} -{ws} THEN tot_qty ELSE 0 END) as f2_q,\n",
        "      COUNT(DISTINCT CASE WHEN day> {ref_date}-2*{ws} AND day <= {ref_date} -{ws} THEN day END) as f2_f,\n",
        "      (CASE WHEN COUNT(DISTINCT CASE WHEN day> {ref_date}-2*{ws} AND day <= {ref_date}-{ws} THEN day END)==0 THEN 1 ELSE 0 END) as w2_shop,\n",
        "\n",
        "      SUM(CASE WHEN day> {ref_date}-3*{ws} AND day <= {ref_date}-2*{ws} THEN tot_val ELSE 0 END) as f3_v,\n",
        "      SUM(CASE WHEN day> {ref_date}-3*{ws} AND day <= {ref_date}-2*{ws} THEN tot_qty ELSE 0 END) as f3_q,\n",
        "      COUNT(DISTINCT CASE WHEN day> {ref_date}-3*{ws} AND day <= {ref_date}-2*{ws} THEN day END) as f3_f,\n",
        "      (CASE WHEN COUNT(DISTINCT CASE WHEN day> {ref_date}-3*{ws} AND day <= {ref_date}-2*{ws} THEN day END)==0 THEN 1 ELSE 0 END) as f3_shop,\n",
        "    \n",
        "      SUM(CASE WHEN day> {ref_date}-4*{ws} AND day <= {ref_date} - 3*{ws} THEN tot_val ELSE 0 END) as f4_v,\n",
        "      SUM(CASE WHEN day> {ref_date}-4*{ws} AND day <= {ref_date}-3*{ws} THEN tot_qty ELSE 0 END) as f4_q,\n",
        "      COUNT(DISTINCT CASE WHEN day> {ref_date}-4*{ws} AND day <= {ref_date}-3*{ws} THEN day END) as f4_f,\n",
        "      (CASE WHEN COUNT(DISTINCT CASE WHEN day> {ref_date}-4*{ws} AND day <= {ref_date}-3*{ws} THEN day END)==0 THEN 1 ELSE 0 END) as w4_shop,\n",
        "\n",
        "      SUM(CASE WHEN day> {ref_date}-5*{ws} AND day <= {ref_date} - 4*{ws} THEN tot_val ELSE 0 END) as f5_v,\n",
        "      SUM(CASE WHEN day> {ref_date}-5*{ws} AND day <= {ref_date}-4*{ws} THEN tot_qty ELSE 0 END) as f5_q,\n",
        "      COUNT(DISTINCT CASE WHEN day> {ref_date}-5*{ws} AND day <= {ref_date}-4*{ws} THEN day END) as f5_f,\n",
        "      (CASE WHEN COUNT(DISTINCT CASE WHEN day> {ref_date}-5*{ws} AND day <= {ref_date}-4*{ws} THEN day END)==0 THEN 1 ELSE 0 END) as w5_shop,\n",
        "\n",
        "      SUM(CASE WHEN day> {ref_date}-6*{ws} AND day <= {ref_date} - 5*{ws} THEN tot_val ELSE 0 END) as f6_v,\n",
        "      SUM(CASE WHEN day> {ref_date}-6*{ws} AND day <= {ref_date}-5*{ws} THEN tot_qty ELSE 0 END) as f6_q,\n",
        "      COUNT(DISTINCT CASE WHEN day> {ref_date}-6*{ws} AND day <= {ref_date}-5*{ws} THEN day END) as f6_f,\n",
        "      (CASE WHEN COUNT(DISTINCT CASE WHEN day> {ref_date}-6*{ws} AND day <= {ref_date}-5*{ws} THEN day END)==0 THEN 1 ELSE 0 END) as w6_shop,\n",
        "\n",
        "      SUM(CASE WHEN day> {ref_date}-7*{ws} AND day <= {ref_date} - 6*{ws} THEN tot_val ELSE 0 END) as f7_v,\n",
        "      SUM(CASE WHEN day> {ref_date}-7*{ws} AND day <= {ref_date}-6*{ws} THEN tot_qty ELSE 0 END) as f7_q,\n",
        "      COUNT(DISTINCT CASE WHEN day> {ref_date}-7*{ws} AND day <= {ref_date}-6*{ws} THEN day END) as f7_f,\n",
        "      (CASE WHEN COUNT(DISTINCT CASE WHEN day> {ref_date}-7*{ws} AND day <= {ref_date}-6*{ws} THEN day END)==0 THEN 1 ELSE 0 END) as w7_shop,\n",
        "\n",
        "      SUM(CASE WHEN day> {ref_date}-8*{ws} AND day <= {ref_date} - 7*{ws} THEN tot_val ELSE 0 END) as f8_v,\n",
        "      SUM(CASE WHEN day> {ref_date}-8*{ws} AND day <= {ref_date}-7*{ws} THEN tot_qty ELSE 0 END) as f8_q,\n",
        "      COUNT(DISTINCT CASE WHEN day> {ref_date}-8*{ws} AND day <= {ref_date}-7*{ws} THEN day END) as f8_f,\n",
        "      (CASE WHEN COUNT(DISTINCT CASE WHEN day> {ref_date}-8*{ws} AND day <= {ref_date}-7*{ws} THEN day END)==0 THEN 1 ELSE 0 END) as w8_shop\n",
        "FROM Merged_data\n",
        "GROUP BY customer_id\n",
        "\"\"\"\n",
        "    df = %sql {sql.format(ref_date = reference_day, ws = tumbling_window_size, ows = output_window_size)}\n",
        "    df = df.DataFrame()\n",
        "    df.set_index('customer_id', inplace=True)\n",
        "\n",
        "    return df.drop(columns = ['ref_day','output_y','output_q','output_f','output_churn'], inplace = False), df.output_churn"
      ]
    },
    {
      "cell_type": "code",
      "execution_count": null,
      "metadata": {
        "id": "k-5AG9412k0b",
        "colab": {
          "base_uri": "https://localhost:8080/"
        },
        "outputId": "110e64e6-02a1-4454-9c2a-5ed645824168"
      },
      "outputs": [
        {
          "output_type": "stream",
          "name": "stdout",
          "text": [
            " * sqlite:///drive/MyDrive/ml15.sqlite\n",
            "Done.\n"
          ]
        }
      ],
      "source": [
        "X, y = get_dataset( reference_day = 608-28, tumbling_window_size = 7, output_window_size = 28) ### This is just the execution of above function. It's just to check."
      ]
    },
    {
      "cell_type": "code",
      "source": [
        "X.head()"
      ],
      "metadata": {
        "id": "Vj7KHWZlYXkn",
        "colab": {
          "base_uri": "https://localhost:8080/",
          "height": 267
        },
        "outputId": "6b36f1e8-c195-40d7-9d6a-7da984536caf"
      },
      "execution_count": null,
      "outputs": [
        {
          "output_type": "execute_result",
          "data": {
            "text/plain": [
              "             f1_v  f1_q  f1_f  w1_shop  f2_v  f2_q  f2_f  w2_shop  f3_v  f3_q  \\\n",
              "customer_id                                                                     \n",
              "0             0.0     0     0        1   0.0     0     0        1   0.0     0   \n",
              "2             0.0     0     0        1   0.0     0     0        1   0.0     0   \n",
              "9             0.0     0     0        1   0.0     0     0        1   0.0     0   \n",
              "14            0.0     0     0        1   0.0     0     0        1   0.0     0   \n",
              "25            0.0     0     0        1   0.0     0     0        1   0.0     0   \n",
              "\n",
              "             ...  f6_f  w6_shop  f7_v  f7_q  f7_f  w7_shop  f8_v  f8_q  f8_f  \\\n",
              "customer_id  ...                                                               \n",
              "0            ...     0        1   0.0     0     0        1   0.0     0     0   \n",
              "2            ...     0        1   0.0     0     0        1   0.0     0     0   \n",
              "9            ...     0        1   0.0     0     0        1   0.0     0     0   \n",
              "14           ...     0        1   0.0     0     0        1   0.0     0     0   \n",
              "25           ...     0        1   0.0     0     0        1   0.0     0     0   \n",
              "\n",
              "             w8_shop  \n",
              "customer_id           \n",
              "0                  1  \n",
              "2                  1  \n",
              "9                  1  \n",
              "14                 1  \n",
              "25                 1  \n",
              "\n",
              "[5 rows x 32 columns]"
            ],
            "text/html": [
              "\n",
              "  <div id=\"df-34eaa565-7dd9-4edf-a96e-d791d07174f0\">\n",
              "    <div class=\"colab-df-container\">\n",
              "      <div>\n",
              "<style scoped>\n",
              "    .dataframe tbody tr th:only-of-type {\n",
              "        vertical-align: middle;\n",
              "    }\n",
              "\n",
              "    .dataframe tbody tr th {\n",
              "        vertical-align: top;\n",
              "    }\n",
              "\n",
              "    .dataframe thead th {\n",
              "        text-align: right;\n",
              "    }\n",
              "</style>\n",
              "<table border=\"1\" class=\"dataframe\">\n",
              "  <thead>\n",
              "    <tr style=\"text-align: right;\">\n",
              "      <th></th>\n",
              "      <th>f1_v</th>\n",
              "      <th>f1_q</th>\n",
              "      <th>f1_f</th>\n",
              "      <th>w1_shop</th>\n",
              "      <th>f2_v</th>\n",
              "      <th>f2_q</th>\n",
              "      <th>f2_f</th>\n",
              "      <th>w2_shop</th>\n",
              "      <th>f3_v</th>\n",
              "      <th>f3_q</th>\n",
              "      <th>...</th>\n",
              "      <th>f6_f</th>\n",
              "      <th>w6_shop</th>\n",
              "      <th>f7_v</th>\n",
              "      <th>f7_q</th>\n",
              "      <th>f7_f</th>\n",
              "      <th>w7_shop</th>\n",
              "      <th>f8_v</th>\n",
              "      <th>f8_q</th>\n",
              "      <th>f8_f</th>\n",
              "      <th>w8_shop</th>\n",
              "    </tr>\n",
              "    <tr>\n",
              "      <th>customer_id</th>\n",
              "      <th></th>\n",
              "      <th></th>\n",
              "      <th></th>\n",
              "      <th></th>\n",
              "      <th></th>\n",
              "      <th></th>\n",
              "      <th></th>\n",
              "      <th></th>\n",
              "      <th></th>\n",
              "      <th></th>\n",
              "      <th></th>\n",
              "      <th></th>\n",
              "      <th></th>\n",
              "      <th></th>\n",
              "      <th></th>\n",
              "      <th></th>\n",
              "      <th></th>\n",
              "      <th></th>\n",
              "      <th></th>\n",
              "      <th></th>\n",
              "      <th></th>\n",
              "    </tr>\n",
              "  </thead>\n",
              "  <tbody>\n",
              "    <tr>\n",
              "      <th>0</th>\n",
              "      <td>0.0</td>\n",
              "      <td>0</td>\n",
              "      <td>0</td>\n",
              "      <td>1</td>\n",
              "      <td>0.0</td>\n",
              "      <td>0</td>\n",
              "      <td>0</td>\n",
              "      <td>1</td>\n",
              "      <td>0.0</td>\n",
              "      <td>0</td>\n",
              "      <td>...</td>\n",
              "      <td>0</td>\n",
              "      <td>1</td>\n",
              "      <td>0.0</td>\n",
              "      <td>0</td>\n",
              "      <td>0</td>\n",
              "      <td>1</td>\n",
              "      <td>0.0</td>\n",
              "      <td>0</td>\n",
              "      <td>0</td>\n",
              "      <td>1</td>\n",
              "    </tr>\n",
              "    <tr>\n",
              "      <th>2</th>\n",
              "      <td>0.0</td>\n",
              "      <td>0</td>\n",
              "      <td>0</td>\n",
              "      <td>1</td>\n",
              "      <td>0.0</td>\n",
              "      <td>0</td>\n",
              "      <td>0</td>\n",
              "      <td>1</td>\n",
              "      <td>0.0</td>\n",
              "      <td>0</td>\n",
              "      <td>...</td>\n",
              "      <td>0</td>\n",
              "      <td>1</td>\n",
              "      <td>0.0</td>\n",
              "      <td>0</td>\n",
              "      <td>0</td>\n",
              "      <td>1</td>\n",
              "      <td>0.0</td>\n",
              "      <td>0</td>\n",
              "      <td>0</td>\n",
              "      <td>1</td>\n",
              "    </tr>\n",
              "    <tr>\n",
              "      <th>9</th>\n",
              "      <td>0.0</td>\n",
              "      <td>0</td>\n",
              "      <td>0</td>\n",
              "      <td>1</td>\n",
              "      <td>0.0</td>\n",
              "      <td>0</td>\n",
              "      <td>0</td>\n",
              "      <td>1</td>\n",
              "      <td>0.0</td>\n",
              "      <td>0</td>\n",
              "      <td>...</td>\n",
              "      <td>0</td>\n",
              "      <td>1</td>\n",
              "      <td>0.0</td>\n",
              "      <td>0</td>\n",
              "      <td>0</td>\n",
              "      <td>1</td>\n",
              "      <td>0.0</td>\n",
              "      <td>0</td>\n",
              "      <td>0</td>\n",
              "      <td>1</td>\n",
              "    </tr>\n",
              "    <tr>\n",
              "      <th>14</th>\n",
              "      <td>0.0</td>\n",
              "      <td>0</td>\n",
              "      <td>0</td>\n",
              "      <td>1</td>\n",
              "      <td>0.0</td>\n",
              "      <td>0</td>\n",
              "      <td>0</td>\n",
              "      <td>1</td>\n",
              "      <td>0.0</td>\n",
              "      <td>0</td>\n",
              "      <td>...</td>\n",
              "      <td>0</td>\n",
              "      <td>1</td>\n",
              "      <td>0.0</td>\n",
              "      <td>0</td>\n",
              "      <td>0</td>\n",
              "      <td>1</td>\n",
              "      <td>0.0</td>\n",
              "      <td>0</td>\n",
              "      <td>0</td>\n",
              "      <td>1</td>\n",
              "    </tr>\n",
              "    <tr>\n",
              "      <th>25</th>\n",
              "      <td>0.0</td>\n",
              "      <td>0</td>\n",
              "      <td>0</td>\n",
              "      <td>1</td>\n",
              "      <td>0.0</td>\n",
              "      <td>0</td>\n",
              "      <td>0</td>\n",
              "      <td>1</td>\n",
              "      <td>0.0</td>\n",
              "      <td>0</td>\n",
              "      <td>...</td>\n",
              "      <td>0</td>\n",
              "      <td>1</td>\n",
              "      <td>0.0</td>\n",
              "      <td>0</td>\n",
              "      <td>0</td>\n",
              "      <td>1</td>\n",
              "      <td>0.0</td>\n",
              "      <td>0</td>\n",
              "      <td>0</td>\n",
              "      <td>1</td>\n",
              "    </tr>\n",
              "  </tbody>\n",
              "</table>\n",
              "<p>5 rows × 32 columns</p>\n",
              "</div>\n",
              "      <button class=\"colab-df-convert\" onclick=\"convertToInteractive('df-34eaa565-7dd9-4edf-a96e-d791d07174f0')\"\n",
              "              title=\"Convert this dataframe to an interactive table.\"\n",
              "              style=\"display:none;\">\n",
              "        \n",
              "  <svg xmlns=\"http://www.w3.org/2000/svg\" height=\"24px\"viewBox=\"0 0 24 24\"\n",
              "       width=\"24px\">\n",
              "    <path d=\"M0 0h24v24H0V0z\" fill=\"none\"/>\n",
              "    <path d=\"M18.56 5.44l.94 2.06.94-2.06 2.06-.94-2.06-.94-.94-2.06-.94 2.06-2.06.94zm-11 1L8.5 8.5l.94-2.06 2.06-.94-2.06-.94L8.5 2.5l-.94 2.06-2.06.94zm10 10l.94 2.06.94-2.06 2.06-.94-2.06-.94-.94-2.06-.94 2.06-2.06.94z\"/><path d=\"M17.41 7.96l-1.37-1.37c-.4-.4-.92-.59-1.43-.59-.52 0-1.04.2-1.43.59L10.3 9.45l-7.72 7.72c-.78.78-.78 2.05 0 2.83L4 21.41c.39.39.9.59 1.41.59.51 0 1.02-.2 1.41-.59l7.78-7.78 2.81-2.81c.8-.78.8-2.07 0-2.86zM5.41 20L4 18.59l7.72-7.72 1.47 1.35L5.41 20z\"/>\n",
              "  </svg>\n",
              "      </button>\n",
              "      \n",
              "  <style>\n",
              "    .colab-df-container {\n",
              "      display:flex;\n",
              "      flex-wrap:wrap;\n",
              "      gap: 12px;\n",
              "    }\n",
              "\n",
              "    .colab-df-convert {\n",
              "      background-color: #E8F0FE;\n",
              "      border: none;\n",
              "      border-radius: 50%;\n",
              "      cursor: pointer;\n",
              "      display: none;\n",
              "      fill: #1967D2;\n",
              "      height: 32px;\n",
              "      padding: 0 0 0 0;\n",
              "      width: 32px;\n",
              "    }\n",
              "\n",
              "    .colab-df-convert:hover {\n",
              "      background-color: #E2EBFA;\n",
              "      box-shadow: 0px 1px 2px rgba(60, 64, 67, 0.3), 0px 1px 3px 1px rgba(60, 64, 67, 0.15);\n",
              "      fill: #174EA6;\n",
              "    }\n",
              "\n",
              "    [theme=dark] .colab-df-convert {\n",
              "      background-color: #3B4455;\n",
              "      fill: #D2E3FC;\n",
              "    }\n",
              "\n",
              "    [theme=dark] .colab-df-convert:hover {\n",
              "      background-color: #434B5C;\n",
              "      box-shadow: 0px 1px 3px 1px rgba(0, 0, 0, 0.15);\n",
              "      filter: drop-shadow(0px 1px 2px rgba(0, 0, 0, 0.3));\n",
              "      fill: #FFFFFF;\n",
              "    }\n",
              "  </style>\n",
              "\n",
              "      <script>\n",
              "        const buttonEl =\n",
              "          document.querySelector('#df-34eaa565-7dd9-4edf-a96e-d791d07174f0 button.colab-df-convert');\n",
              "        buttonEl.style.display =\n",
              "          google.colab.kernel.accessAllowed ? 'block' : 'none';\n",
              "\n",
              "        async function convertToInteractive(key) {\n",
              "          const element = document.querySelector('#df-34eaa565-7dd9-4edf-a96e-d791d07174f0');\n",
              "          const dataTable =\n",
              "            await google.colab.kernel.invokeFunction('convertToInteractive',\n",
              "                                                     [key], {});\n",
              "          if (!dataTable) return;\n",
              "\n",
              "          const docLinkHtml = 'Like what you see? Visit the ' +\n",
              "            '<a target=\"_blank\" href=https://colab.research.google.com/notebooks/data_table.ipynb>data table notebook</a>'\n",
              "            + ' to learn more about interactive tables.';\n",
              "          element.innerHTML = '';\n",
              "          dataTable['output_type'] = 'display_data';\n",
              "          await google.colab.output.renderOutput(dataTable, element);\n",
              "          const docLink = document.createElement('div');\n",
              "          docLink.innerHTML = docLinkHtml;\n",
              "          element.appendChild(docLink);\n",
              "        }\n",
              "      </script>\n",
              "    </div>\n",
              "  </div>\n",
              "  "
            ]
          },
          "metadata": {},
          "execution_count": 19
        }
      ]
    },
    {
      "cell_type": "code",
      "source": [
        "X.shape"
      ],
      "metadata": {
        "id": "UJ6dbjKzZ8Fn",
        "colab": {
          "base_uri": "https://localhost:8080/"
        },
        "outputId": "d3d4c8c8-fbe6-4789-800f-6af8ccb34efc"
      },
      "execution_count": null,
      "outputs": [
        {
          "output_type": "execute_result",
          "data": {
            "text/plain": [
              "(5160, 32)"
            ]
          },
          "metadata": {},
          "execution_count": 20
        }
      ]
    },
    {
      "cell_type": "code",
      "execution_count": null,
      "metadata": {
        "id": "Ofzf7N0SOxmn",
        "colab": {
          "base_uri": "https://localhost:8080/"
        },
        "outputId": "cd841bbc-8a01-4718-a9d9-ccd2ae02f5c8"
      },
      "outputs": [
        {
          "output_type": "execute_result",
          "data": {
            "text/plain": [
              "f1_v       0\n",
              "f1_q       0\n",
              "f1_f       0\n",
              "w1_shop    0\n",
              "f2_v       0\n",
              "f2_q       0\n",
              "f2_f       0\n",
              "w2_shop    0\n",
              "f3_v       0\n",
              "f3_q       0\n",
              "f3_f       0\n",
              "f3_shop    0\n",
              "f4_v       0\n",
              "f4_q       0\n",
              "f4_f       0\n",
              "w4_shop    0\n",
              "f5_v       0\n",
              "f5_q       0\n",
              "f5_f       0\n",
              "w5_shop    0\n",
              "f6_v       0\n",
              "f6_q       0\n",
              "f6_f       0\n",
              "w6_shop    0\n",
              "f7_v       0\n",
              "f7_q       0\n",
              "f7_f       0\n",
              "w7_shop    0\n",
              "f8_v       0\n",
              "f8_q       0\n",
              "f8_f       0\n",
              "w8_shop    0\n",
              "dtype: int64"
            ]
          },
          "metadata": {},
          "execution_count": 21
        }
      ],
      "source": [
        "## First step of data cleaning is to check any null values. Our created inputs dont have null values.We don't need any exclusion or impuation.\n",
        "X.isnull().sum(axis=0)"
      ]
    },
    {
      "cell_type": "code",
      "execution_count": null,
      "metadata": {
        "id": "PI12fAGRS1E0",
        "colab": {
          "base_uri": "https://localhost:8080/"
        },
        "outputId": "5c1e7c41-c0af-45b1-ce21-a2b36007331b"
      },
      "outputs": [
        {
          "output_type": "stream",
          "name": "stdout",
          "text": [
            "             f1_v      f1_q      f1_f   w1_shop      f2_v      f2_q      f2_f  \\\n",
            "f1_v     1.000000  0.944756  0.741329 -0.734615  0.267304  0.233104  0.302618   \n",
            "f1_q     0.944756  1.000000  0.741862 -0.724824  0.259103  0.248873  0.309884   \n",
            "f1_f     0.741329  0.741862  1.000000 -0.885737  0.336298  0.306248  0.500653   \n",
            "w1_shop -0.734615 -0.724824 -0.885737  1.000000 -0.281155 -0.264999 -0.375449   \n",
            "f2_v     0.267304  0.259103  0.336298 -0.281155  1.000000  0.932779  0.771333   \n",
            "f2_q     0.233104  0.248873  0.306248 -0.264999  0.932779  1.000000  0.730831   \n",
            "f2_f     0.302618  0.309884  0.500653 -0.375449  0.771333  0.730831  1.000000   \n",
            "w2_shop -0.227948 -0.234348 -0.360968  0.329547 -0.759037 -0.734888 -0.864323   \n",
            "f3_v     0.266135  0.271399  0.284611 -0.253016  0.290463  0.275060  0.289357   \n",
            "f3_q     0.305870  0.326549  0.335333 -0.307678  0.350148  0.353575  0.353187   \n",
            "f3_f     0.331067  0.345657  0.482559 -0.398384  0.334717  0.317479  0.503944   \n",
            "f3_shop -0.291939 -0.305900 -0.394647  0.371673 -0.271264 -0.265108 -0.377940   \n",
            "f4_v     0.333387  0.338984  0.403935 -0.354160  0.306086  0.277431  0.361560   \n",
            "f4_q     0.321621  0.345447  0.391943 -0.347854  0.287268  0.284871  0.345671   \n",
            "f4_f     0.332155  0.342786  0.516401 -0.437771  0.338157  0.311751  0.502091   \n",
            "w4_shop -0.291513 -0.304265 -0.420597  0.420747 -0.285013 -0.272012 -0.389499   \n",
            "f5_v    -0.003539 -0.003492 -0.004268  0.004820 -0.003813 -0.003692 -0.004343   \n",
            "f5_q     0.265631  0.275594  0.281271 -0.249881  0.349958  0.348165  0.332655   \n",
            "f5_f     0.291250  0.294544  0.440734 -0.339209  0.368145  0.339257  0.490848   \n",
            "w5_shop -0.240812 -0.248236 -0.339621  0.305617 -0.301777 -0.294495 -0.371133   \n",
            "f6_v     0.251265  0.245323  0.282616 -0.240339  0.334326  0.309395  0.326157   \n",
            "f6_q     0.246870  0.255584  0.285613 -0.240659  0.332508  0.331123  0.337959   \n",
            "f6_f     0.276831  0.280854  0.436602 -0.344642  0.356580  0.335352  0.482408   \n",
            "w6_shop -0.229886 -0.232189 -0.350718  0.319147 -0.290339 -0.278604 -0.379591   \n",
            "f7_v     0.296974  0.284553  0.352507 -0.301174  0.309761  0.281831  0.362572   \n",
            "f7_q     0.287821  0.298446  0.340245 -0.290764  0.304698  0.309440  0.355055   \n",
            "f7_f     0.304872  0.307602  0.498380 -0.377358  0.349016  0.330734  0.514837   \n",
            "w7_shop -0.266290 -0.264597 -0.389708  0.351955 -0.302494 -0.294233 -0.393983   \n",
            "f8_v     0.316596  0.314512  0.305889 -0.269127  0.303238  0.278920  0.314704   \n",
            "f8_q     0.314168  0.328671  0.306675 -0.274301  0.281638  0.285690  0.304143   \n",
            "f8_f     0.318494  0.324888  0.464270 -0.367497  0.332772  0.307135  0.485078   \n",
            "w8_shop -0.276538 -0.281114 -0.356778  0.334589 -0.298362 -0.282773 -0.378220   \n",
            "\n",
            "          w2_shop      f3_v      f3_q  ...      f6_f   w6_shop      f7_v  \\\n",
            "f1_v    -0.227948  0.266135  0.305870  ...  0.276831 -0.229886  0.296974   \n",
            "f1_q    -0.234348  0.271399  0.326549  ...  0.280854 -0.232189  0.284553   \n",
            "f1_f    -0.360968  0.284611  0.335333  ...  0.436602 -0.350718  0.352507   \n",
            "w1_shop  0.329547 -0.253016 -0.307678  ... -0.344642  0.319147 -0.301174   \n",
            "f2_v    -0.759037  0.290463  0.350148  ...  0.356580 -0.290339  0.309761   \n",
            "f2_q    -0.734888  0.275060  0.353575  ...  0.335352 -0.278604  0.281831   \n",
            "f2_f    -0.864323  0.289357  0.353187  ...  0.482408 -0.379591  0.362572   \n",
            "w2_shop  1.000000 -0.226956 -0.287380  ... -0.380509  0.354452 -0.270824   \n",
            "f3_v    -0.226956  1.000000  0.810052  ...  0.299853 -0.242495  0.277531   \n",
            "f3_q    -0.287380  0.810052  1.000000  ...  0.350186 -0.291458  0.300672   \n",
            "f3_f    -0.369643  0.661319  0.753448  ...  0.459207 -0.370908  0.370590   \n",
            "f3_shop  0.336995 -0.646370 -0.724230  ... -0.363056  0.333885 -0.288324   \n",
            "f4_v    -0.307558  0.184226  0.212034  ...  0.341389 -0.278229  0.301052   \n",
            "f4_q    -0.295900  0.180287  0.222157  ...  0.339595 -0.277358  0.278701   \n",
            "f4_f    -0.396066  0.245205  0.290061  ...  0.452119 -0.368620  0.355221   \n",
            "w4_shop  0.369290 -0.196923 -0.244821  ... -0.351741  0.335841 -0.294424   \n",
            "f5_v     0.005027 -0.003241 -0.003632  ... -0.004326  0.004844 -0.003688   \n",
            "f5_q    -0.292538  0.264698  0.338279  ...  0.288716 -0.241538  0.306859   \n",
            "f5_f    -0.361538  0.307875  0.356815  ...  0.415882 -0.330056  0.366714   \n",
            "w5_shop  0.336872 -0.260296 -0.307379  ... -0.320982  0.287385 -0.299972   \n",
            "f6_v    -0.281118  0.308782  0.335736  ...  0.778189 -0.747482  0.260813   \n",
            "f6_q    -0.283936  0.288570  0.342697  ...  0.769427 -0.719004  0.239229   \n",
            "f6_f    -0.380509  0.299853  0.350186  ...  1.000000 -0.893224  0.322718   \n",
            "w6_shop  0.354452 -0.242495 -0.291458  ... -0.893224  1.000000 -0.266496   \n",
            "f7_v    -0.270824  0.277531  0.300672  ...  0.322718 -0.266496  1.000000   \n",
            "f7_q    -0.268626  0.274503  0.322990  ...  0.325476 -0.259883  0.921895   \n",
            "f7_f    -0.368646  0.284429  0.337675  ...  0.466879 -0.368333  0.756568   \n",
            "w7_shop  0.363637 -0.250935 -0.300971  ... -0.349279  0.320029 -0.738304   \n",
            "f8_v    -0.266174  0.248420  0.297998  ...  0.327796 -0.269228  0.280231   \n",
            "f8_q    -0.264655  0.241347  0.311780  ...  0.329093 -0.268710  0.266204   \n",
            "f8_f    -0.380462  0.276735  0.337420  ...  0.481097 -0.378200  0.340247   \n",
            "w8_shop  0.364348 -0.246443 -0.303072  ... -0.381689  0.355078 -0.283487   \n",
            "\n",
            "             f7_q      f7_f   w7_shop      f8_v      f8_q      f8_f   w8_shop  \n",
            "f1_v     0.287821  0.304872 -0.266290  0.316596  0.314168  0.318494 -0.276538  \n",
            "f1_q     0.298446  0.307602 -0.264597  0.314512  0.328671  0.324888 -0.281114  \n",
            "f1_f     0.340245  0.498380 -0.389708  0.305889  0.306675  0.464270 -0.356778  \n",
            "w1_shop -0.290764 -0.377358  0.351955 -0.269127 -0.274301 -0.367497  0.334589  \n",
            "f2_v     0.304698  0.349016 -0.302494  0.303238  0.281638  0.332772 -0.298362  \n",
            "f2_q     0.309440  0.330734 -0.294233  0.278920  0.285690  0.307135 -0.282773  \n",
            "f2_f     0.355055  0.514837 -0.393983  0.314704  0.304143  0.485078 -0.378220  \n",
            "w2_shop -0.268626 -0.368646  0.363637 -0.266174 -0.264655 -0.380462  0.364348  \n",
            "f3_v     0.274503  0.284429 -0.250935  0.248420  0.241347  0.276735 -0.246443  \n",
            "f3_q     0.322990  0.337675 -0.300971  0.297998  0.311780  0.337420 -0.303072  \n",
            "f3_f     0.378771  0.506889 -0.396745  0.326823  0.332283  0.479795 -0.387070  \n",
            "f3_shop -0.293887 -0.393859  0.376054 -0.276726 -0.281502 -0.380132  0.365331  \n",
            "f4_v     0.303853  0.353800 -0.328313  0.316076  0.311668  0.389258 -0.338533  \n",
            "f4_q     0.306779  0.339571 -0.315947  0.300136  0.325658  0.372969 -0.322174  \n",
            "f4_f     0.358251  0.507236 -0.410021  0.322644  0.323867  0.493088 -0.399077  \n",
            "w4_shop -0.296411 -0.401532  0.400859 -0.283813 -0.284576 -0.396786  0.383955  \n",
            "f5_v    -0.003605 -0.004291  0.004998 -0.003713 -0.003659 -0.004509  0.005159  \n",
            "f5_q     0.337462  0.333752 -0.305797  0.343826  0.367373  0.342494 -0.306613  \n",
            "f5_f     0.371572  0.502088 -0.386996  0.338180  0.330494  0.483952 -0.397603  \n",
            "w5_shop -0.312262 -0.383456  0.368788 -0.280954 -0.281912 -0.382716  0.377470  \n",
            "f6_v     0.243670  0.293416 -0.242340  0.316143  0.295045  0.313071 -0.278740  \n",
            "f6_q     0.257101  0.295060 -0.245376  0.302644  0.314184  0.317342 -0.274361  \n",
            "f6_f     0.325476  0.466879 -0.349279  0.327796  0.329093  0.481097 -0.381689  \n",
            "w6_shop -0.259883 -0.368333  0.320029 -0.269228 -0.268710 -0.378200  0.355078  \n",
            "f7_v     0.921895  0.756568 -0.738304  0.280231  0.266204  0.340247 -0.283487  \n",
            "f7_q     1.000000  0.749791 -0.721709  0.289443  0.305595  0.340378 -0.282963  \n",
            "f7_f     0.749791  1.000000 -0.858806  0.308346  0.313784  0.486415 -0.383797  \n",
            "w7_shop -0.721709 -0.858806  1.000000 -0.270950 -0.274493 -0.391035  0.361707  \n",
            "f8_v     0.289443  0.308346 -0.270950  1.000000  0.913165  0.749365 -0.720152  \n",
            "f8_q     0.305595  0.313784 -0.274493  0.913165  1.000000  0.744061 -0.709560  \n",
            "f8_f     0.340378  0.486415 -0.391035  0.749365  0.744061  1.000000 -0.874232  \n",
            "w8_shop -0.282963 -0.383797  0.361707 -0.720152 -0.709560 -0.874232  1.000000  \n",
            "\n",
            "[32 rows x 32 columns]\n"
          ]
        }
      ],
      "source": [
        "#scatter=pd.plotting.scatter_matrix(X, figsize=(20,10))\n",
        "# Correlation matrix shows correlation between features. It's natural that value and quantity will have correlation as they are derived from each other. \n",
        "print(X.corr())"
      ]
    },
    {
      "cell_type": "code",
      "execution_count": null,
      "metadata": {
        "id": "DLQvIoQjc1FH",
        "colab": {
          "base_uri": "https://localhost:8080/",
          "height": 297
        },
        "outputId": "dc2a7456-84ac-4f22-b10a-d1b21766bb94"
      },
      "outputs": [
        {
          "output_type": "execute_result",
          "data": {
            "text/plain": [
              "<function matplotlib.pyplot.show>"
            ]
          },
          "metadata": {},
          "execution_count": 23
        },
        {
          "output_type": "display_data",
          "data": {
            "text/plain": [
              "<Figure size 432x288 with 2 Axes>"
            ],
            "image/png": "[encoded data removed]"
          },
          "metadata": {
            "needs_background": "light"
          }
        }
      ],
      "source": [
        "# This plot is crucial for visualising correlation.\n",
        "dataplot=sns.heatmap(X.corr(), cmap=\"YlGnBu\", annot=True)\n",
        "plt.show"
      ]
    },
    {
      "cell_type": "code",
      "execution_count": null,
      "metadata": {
        "id": "71Zugm1MS1Iq",
        "colab": {
          "base_uri": "https://localhost:8080/",
          "height": 564
        },
        "outputId": "79b49d3e-708a-4f32-97b2-3ef2850162bd"
      },
      "outputs": [
        {
          "output_type": "stream",
          "name": "stderr",
          "text": [
            "/usr/local/lib/python3.7/dist-packages/seaborn/distributions.py:2619: FutureWarning: `distplot` is a deprecated function and will be removed in a future version. Please adapt your code to use either `displot` (a figure-level function with similar flexibility) or `histplot` (an axes-level function for histograms).\n",
            "  warnings.warn(msg, FutureWarning)\n",
            "/usr/local/lib/python3.7/dist-packages/seaborn/distributions.py:2619: FutureWarning: `distplot` is a deprecated function and will be removed in a future version. Please adapt your code to use either `displot` (a figure-level function with similar flexibility) or `histplot` (an axes-level function for histograms).\n",
            "  warnings.warn(msg, FutureWarning)\n",
            "/usr/local/lib/python3.7/dist-packages/seaborn/distributions.py:2619: FutureWarning: `distplot` is a deprecated function and will be removed in a future version. Please adapt your code to use either `displot` (a figure-level function with similar flexibility) or `histplot` (an axes-level function for histograms).\n",
            "  warnings.warn(msg, FutureWarning)\n",
            "/usr/local/lib/python3.7/dist-packages/seaborn/distributions.py:2619: FutureWarning: `distplot` is a deprecated function and will be removed in a future version. Please adapt your code to use either `displot` (a figure-level function with similar flexibility) or `histplot` (an axes-level function for histograms).\n",
            "  warnings.warn(msg, FutureWarning)\n"
          ]
        },
        {
          "output_type": "display_data",
          "data": {
            "text/plain": [
              "<Figure size 1080x432 with 4 Axes>"
            ],
            "image/png": "[encoded data removed]"
          },
          "metadata": {
            "needs_background": "light"
          }
        }
      ],
      "source": [
        "### Sampled three varialbes to see their shape\n",
        "# Checking frequency districutio of input variables.\n",
        "plt.figure(1, figsize=(15,6))\n",
        "n=0\n",
        "for i in ['f1_v','f1_q','f1_f','w1_shop']:\n",
        "    n+=1\n",
        "    plt.subplot(1,4,n)\n",
        "    plt.subplots_adjust(hspace=0.5,wspace=0.5)\n",
        "    sns.distplot(X[i],bins=10)\n",
        "    plt.title('Distribution plot of {}'.format(i))\n",
        "plt.show()"
      ]
    },
    {
      "cell_type": "code",
      "execution_count": null,
      "metadata": {
        "id": "4LCM65Nvg9s1"
      },
      "outputs": [],
      "source": [
        "## Above graphs were drawn to check the behavior of data. We will do standardization of Training, Valid and Test data sets."
      ]
    },
    {
      "cell_type": "code",
      "execution_count": null,
      "metadata": {
        "id": "JDa4thaz2k7d",
        "colab": {
          "base_uri": "https://localhost:8080/"
        },
        "outputId": "6ec28470-9809-41bc-f3bd-f72ae4224f59"
      },
      "outputs": [
        {
          "output_type": "stream",
          "name": "stdout",
          "text": [
            " * sqlite:///drive/MyDrive/ml15.sqlite\n",
            "Done.\n",
            " * sqlite:///drive/MyDrive/ml15.sqlite\n",
            "Done.\n",
            " * sqlite:///drive/MyDrive/ml15.sqlite\n",
            "Done.\n"
          ]
        }
      ],
      "source": [
        "# 608 is last date of our data set. \n",
        "output_window_size = 28\n",
        "tumbling_window_size = 7\n",
        "X_test, y_test = get_dataset( 608- output_window_size, tumbling_window_size, output_window_size )\n",
        "X_val, y_val = get_dataset(608- 2*output_window_size, tumbling_window_size, output_window_size )\n",
        "X_train, y_train = get_dataset( 608 - 3*output_window_size, tumbling_window_size, output_window_size )\n",
        "\n"
      ]
    },
    {
      "cell_type": "code",
      "execution_count": null,
      "metadata": {
        "id": "LVjeDgV4nP4Y",
        "colab": {
          "base_uri": "https://localhost:8080/"
        },
        "outputId": "e1926c8c-c885-40ee-caff-077ab9b99027"
      },
      "outputs": [
        {
          "output_type": "execute_result",
          "data": {
            "text/plain": [
              "(5160, 32)"
            ]
          },
          "metadata": {},
          "execution_count": 27
        }
      ],
      "source": [
        "X_test.shape"
      ]
    },
    {
      "cell_type": "markdown",
      "source": [
        "2. \n",
        "Machine Learning Tasks"
      ],
      "metadata": {
        "id": "DTDd63dskS1t"
      }
    },
    {
      "cell_type": "code",
      "execution_count": null,
      "metadata": {
        "id": "TdnP0kXX_Vs9"
      },
      "outputs": [],
      "source": [
        "###########Machine Learning Tasks #######################\n",
        "from sklearn.ensemble import RandomForestClassifier\n",
        "from sklearn import metrics\n",
        "from sklearn.model_selection import GridSearchCV\n",
        "import numpy as np\n",
        "from sklearn.ensemble import RandomForestClassifier\n",
        "from sklearn.model_selection import GridSearchCV\n",
        "from sklearn.model_selection import KFold\n",
        "from sklearn.model_selection import cross_val_score\n",
        "from sklearn.model_selection import StratifiedKFold\n",
        "from sklearn import svm\n",
        "from sklearn.metrics import plot_confusion_matrix\n",
        "from sklearn.metrics import classification_report \n",
        "from sklearn.svm import SVC"
      ]
    },
    {
      "cell_type": "code",
      "source": [
        ""
      ],
      "metadata": {
        "id": "yv_xGrg9kN7H"
      },
      "execution_count": null,
      "outputs": []
    },
    {
      "cell_type": "markdown",
      "source": [
        "I. Hyper parameter Tuning/Optimization for Random Forest Model"
      ],
      "metadata": {
        "id": "IkPceE0tkbYL"
      }
    },
    {
      "cell_type": "code",
      "source": [
        "# GridSearchCV() function form sklearn will be used to perform the hyperparameter tuning. It will perform all possible pair wise computations of the two hyper parameres\n",
        "#that we are going to use in the examples here. In simple words, it will determine best values of n_estimators and max_features.\n",
        "from sklearn.model_selection import GridSearchCV\n",
        "import numpy as np\n",
        "max_features_range=np.arange(1, 13, 1)   # Using maximum 13 features\n",
        "n_estimators_range = np.arange(10,140,10) # 14 x 13 = 182 models will be built before finding best one.\n",
        "param_grid=dict(max_features=max_features_range, n_estimators=n_estimators_range)\n",
        "rf = RandomForestClassifier()\n",
        "grid= GridSearchCV(estimator=rf, param_grid=param_grid, cv=5)\n"
      ],
      "metadata": {
        "id": "5dXNV2-pkN9S"
      },
      "execution_count": null,
      "outputs": []
    },
    {
      "cell_type": "code",
      "source": [
        "grid.fit(X_train, y_train)\n",
        "print(\"The best parameters are %s with a score of %0.2f\"\n",
        "     % (grid.best_params_, grid.best_score_))"
      ],
      "metadata": {
        "id": "jHGdcSiokN_O",
        "colab": {
          "base_uri": "https://localhost:8080/"
        },
        "outputId": "f6f7e846-e61e-4c53-bd76-5b3b63f39e79"
      },
      "execution_count": null,
      "outputs": [
        {
          "output_type": "stream",
          "name": "stdout",
          "text": [
            "The best parameters are {'max_features': 11, 'n_estimators': 120} with a score of 0.83\n"
          ]
        }
      ]
    },
    {
      "cell_type": "code",
      "source": [
        "# DF FOR Grid search parameters and their Accuracy Scores\n",
        "import pandas as pd\n",
        "grid_results = pd.concat([pd.DataFrame(grid.cv_results_[\"params\"]), pd.DataFrame(grid.cv_results_[\"mean_test_score\"], columns=[\"Accuracy\"])],axis=1)\n",
        "grid_results.head()"
      ],
      "metadata": {
        "id": "UwDua-2ikOC5",
        "colab": {
          "base_uri": "https://localhost:8080/",
          "height": 206
        },
        "outputId": "6f5f800d-a6b2-4331-acb4-c8f92866e325"
      },
      "execution_count": null,
      "outputs": [
        {
          "output_type": "execute_result",
          "data": {
            "text/plain": [
              "   max_features  n_estimators  Accuracy\n",
              "0             1            10  0.818217\n",
              "1             1            20  0.824225\n",
              "2             1            30  0.823062\n",
              "3             1            40  0.825000\n",
              "4             1            50  0.822868"
            ],
            "text/html": [
              "\n",
              "  <div id=\"df-eba4bd69-5ed3-433e-9a5d-cf79ee65fa06\">\n",
              "    <div class=\"colab-df-container\">\n",
              "      <div>\n",
              "<style scoped>\n",
              "    .dataframe tbody tr th:only-of-type {\n",
              "        vertical-align: middle;\n",
              "    }\n",
              "\n",
              "    .dataframe tbody tr th {\n",
              "        vertical-align: top;\n",
              "    }\n",
              "\n",
              "    .dataframe thead th {\n",
              "        text-align: right;\n",
              "    }\n",
              "</style>\n",
              "<table border=\"1\" class=\"dataframe\">\n",
              "  <thead>\n",
              "    <tr style=\"text-align: right;\">\n",
              "      <th></th>\n",
              "      <th>max_features</th>\n",
              "      <th>n_estimators</th>\n",
              "      <th>Accuracy</th>\n",
              "    </tr>\n",
              "  </thead>\n",
              "  <tbody>\n",
              "    <tr>\n",
              "      <th>0</th>\n",
              "      <td>1</td>\n",
              "      <td>10</td>\n",
              "      <td>0.818217</td>\n",
              "    </tr>\n",
              "    <tr>\n",
              "      <th>1</th>\n",
              "      <td>1</td>\n",
              "      <td>20</td>\n",
              "      <td>0.824225</td>\n",
              "    </tr>\n",
              "    <tr>\n",
              "      <th>2</th>\n",
              "      <td>1</td>\n",
              "      <td>30</td>\n",
              "      <td>0.823062</td>\n",
              "    </tr>\n",
              "    <tr>\n",
              "      <th>3</th>\n",
              "      <td>1</td>\n",
              "      <td>40</td>\n",
              "      <td>0.825000</td>\n",
              "    </tr>\n",
              "    <tr>\n",
              "      <th>4</th>\n",
              "      <td>1</td>\n",
              "      <td>50</td>\n",
              "      <td>0.822868</td>\n",
              "    </tr>\n",
              "  </tbody>\n",
              "</table>\n",
              "</div>\n",
              "      <button class=\"colab-df-convert\" onclick=\"convertToInteractive('df-eba4bd69-5ed3-433e-9a5d-cf79ee65fa06')\"\n",
              "              title=\"Convert this dataframe to an interactive table.\"\n",
              "              style=\"display:none;\">\n",
              "        \n",
              "  <svg xmlns=\"http://www.w3.org/2000/svg\" height=\"24px\"viewBox=\"0 0 24 24\"\n",
              "       width=\"24px\">\n",
              "    <path d=\"M0 0h24v24H0V0z\" fill=\"none\"/>\n",
              "    <path d=\"M18.56 5.44l.94 2.06.94-2.06 2.06-.94-2.06-.94-.94-2.06-.94 2.06-2.06.94zm-11 1L8.5 8.5l.94-2.06 2.06-.94-2.06-.94L8.5 2.5l-.94 2.06-2.06.94zm10 10l.94 2.06.94-2.06 2.06-.94-2.06-.94-.94-2.06-.94 2.06-2.06.94z\"/><path d=\"M17.41 7.96l-1.37-1.37c-.4-.4-.92-.59-1.43-.59-.52 0-1.04.2-1.43.59L10.3 9.45l-7.72 7.72c-.78.78-.78 2.05 0 2.83L4 21.41c.39.39.9.59 1.41.59.51 0 1.02-.2 1.41-.59l7.78-7.78 2.81-2.81c.8-.78.8-2.07 0-2.86zM5.41 20L4 18.59l7.72-7.72 1.47 1.35L5.41 20z\"/>\n",
              "  </svg>\n",
              "      </button>\n",
              "      \n",
              "  <style>\n",
              "    .colab-df-container {\n",
              "      display:flex;\n",
              "      flex-wrap:wrap;\n",
              "      gap: 12px;\n",
              "    }\n",
              "\n",
              "    .colab-df-convert {\n",
              "      background-color: #E8F0FE;\n",
              "      border: none;\n",
              "      border-radius: 50%;\n",
              "      cursor: pointer;\n",
              "      display: none;\n",
              "      fill: #1967D2;\n",
              "      height: 32px;\n",
              "      padding: 0 0 0 0;\n",
              "      width: 32px;\n",
              "    }\n",
              "\n",
              "    .colab-df-convert:hover {\n",
              "      background-color: #E2EBFA;\n",
              "      box-shadow: 0px 1px 2px rgba(60, 64, 67, 0.3), 0px 1px 3px 1px rgba(60, 64, 67, 0.15);\n",
              "      fill: #174EA6;\n",
              "    }\n",
              "\n",
              "    [theme=dark] .colab-df-convert {\n",
              "      background-color: #3B4455;\n",
              "      fill: #D2E3FC;\n",
              "    }\n",
              "\n",
              "    [theme=dark] .colab-df-convert:hover {\n",
              "      background-color: #434B5C;\n",
              "      box-shadow: 0px 1px 3px 1px rgba(0, 0, 0, 0.15);\n",
              "      filter: drop-shadow(0px 1px 2px rgba(0, 0, 0, 0.3));\n",
              "      fill: #FFFFFF;\n",
              "    }\n",
              "  </style>\n",
              "\n",
              "      <script>\n",
              "        const buttonEl =\n",
              "          document.querySelector('#df-eba4bd69-5ed3-433e-9a5d-cf79ee65fa06 button.colab-df-convert');\n",
              "        buttonEl.style.display =\n",
              "          google.colab.kernel.accessAllowed ? 'block' : 'none';\n",
              "\n",
              "        async function convertToInteractive(key) {\n",
              "          const element = document.querySelector('#df-eba4bd69-5ed3-433e-9a5d-cf79ee65fa06');\n",
              "          const dataTable =\n",
              "            await google.colab.kernel.invokeFunction('convertToInteractive',\n",
              "                                                     [key], {});\n",
              "          if (!dataTable) return;\n",
              "\n",
              "          const docLinkHtml = 'Like what you see? Visit the ' +\n",
              "            '<a target=\"_blank\" href=https://colab.research.google.com/notebooks/data_table.ipynb>data table notebook</a>'\n",
              "            + ' to learn more about interactive tables.';\n",
              "          element.innerHTML = '';\n",
              "          dataTable['output_type'] = 'display_data';\n",
              "          await google.colab.output.renderOutput(dataTable, element);\n",
              "          const docLink = document.createElement('div');\n",
              "          docLink.innerHTML = docLinkHtml;\n",
              "          element.appendChild(docLink);\n",
              "        }\n",
              "      </script>\n",
              "    </div>\n",
              "  </div>\n",
              "  "
            ]
          },
          "metadata": {},
          "execution_count": 33
        }
      ]
    },
    {
      "cell_type": "code",
      "source": [
        "## preparing data for making contour plots\n",
        "grid_contour = grid_results.groupby(['max_features','n_estimators']).mean()\n",
        "grid_contour"
      ],
      "metadata": {
        "id": "XaUyavzOk897",
        "colab": {
          "base_uri": "https://localhost:8080/",
          "height": 455
        },
        "outputId": "463b2cad-65bb-48a2-f8ea-8974c087886c"
      },
      "execution_count": null,
      "outputs": [
        {
          "output_type": "execute_result",
          "data": {
            "text/plain": [
              "                           Accuracy\n",
              "max_features n_estimators          \n",
              "1            10            0.818217\n",
              "             20            0.824225\n",
              "             30            0.823062\n",
              "             40            0.825000\n",
              "             50            0.822868\n",
              "...                             ...\n",
              "12           90            0.826357\n",
              "             100           0.826938\n",
              "             110           0.829070\n",
              "             120           0.826550\n",
              "             130           0.827326\n",
              "\n",
              "[156 rows x 1 columns]"
            ],
            "text/html": [
              "\n",
              "  <div id=\"df-515e722e-7da2-4034-85c5-fb151711c79e\">\n",
              "    <div class=\"colab-df-container\">\n",
              "      <div>\n",
              "<style scoped>\n",
              "    .dataframe tbody tr th:only-of-type {\n",
              "        vertical-align: middle;\n",
              "    }\n",
              "\n",
              "    .dataframe tbody tr th {\n",
              "        vertical-align: top;\n",
              "    }\n",
              "\n",
              "    .dataframe thead th {\n",
              "        text-align: right;\n",
              "    }\n",
              "</style>\n",
              "<table border=\"1\" class=\"dataframe\">\n",
              "  <thead>\n",
              "    <tr style=\"text-align: right;\">\n",
              "      <th></th>\n",
              "      <th></th>\n",
              "      <th>Accuracy</th>\n",
              "    </tr>\n",
              "    <tr>\n",
              "      <th>max_features</th>\n",
              "      <th>n_estimators</th>\n",
              "      <th></th>\n",
              "    </tr>\n",
              "  </thead>\n",
              "  <tbody>\n",
              "    <tr>\n",
              "      <th rowspan=\"5\" valign=\"top\">1</th>\n",
              "      <th>10</th>\n",
              "      <td>0.818217</td>\n",
              "    </tr>\n",
              "    <tr>\n",
              "      <th>20</th>\n",
              "      <td>0.824225</td>\n",
              "    </tr>\n",
              "    <tr>\n",
              "      <th>30</th>\n",
              "      <td>0.823062</td>\n",
              "    </tr>\n",
              "    <tr>\n",
              "      <th>40</th>\n",
              "      <td>0.825000</td>\n",
              "    </tr>\n",
              "    <tr>\n",
              "      <th>50</th>\n",
              "      <td>0.822868</td>\n",
              "    </tr>\n",
              "    <tr>\n",
              "      <th>...</th>\n",
              "      <th>...</th>\n",
              "      <td>...</td>\n",
              "    </tr>\n",
              "    <tr>\n",
              "      <th rowspan=\"5\" valign=\"top\">12</th>\n",
              "      <th>90</th>\n",
              "      <td>0.826357</td>\n",
              "    </tr>\n",
              "    <tr>\n",
              "      <th>100</th>\n",
              "      <td>0.826938</td>\n",
              "    </tr>\n",
              "    <tr>\n",
              "      <th>110</th>\n",
              "      <td>0.829070</td>\n",
              "    </tr>\n",
              "    <tr>\n",
              "      <th>120</th>\n",
              "      <td>0.826550</td>\n",
              "    </tr>\n",
              "    <tr>\n",
              "      <th>130</th>\n",
              "      <td>0.827326</td>\n",
              "    </tr>\n",
              "  </tbody>\n",
              "</table>\n",
              "<p>156 rows × 1 columns</p>\n",
              "</div>\n",
              "      <button class=\"colab-df-convert\" onclick=\"convertToInteractive('df-515e722e-7da2-4034-85c5-fb151711c79e')\"\n",
              "              title=\"Convert this dataframe to an interactive table.\"\n",
              "              style=\"display:none;\">\n",
              "        \n",
              "  <svg xmlns=\"http://www.w3.org/2000/svg\" height=\"24px\"viewBox=\"0 0 24 24\"\n",
              "       width=\"24px\">\n",
              "    <path d=\"M0 0h24v24H0V0z\" fill=\"none\"/>\n",
              "    <path d=\"M18.56 5.44l.94 2.06.94-2.06 2.06-.94-2.06-.94-.94-2.06-.94 2.06-2.06.94zm-11 1L8.5 8.5l.94-2.06 2.06-.94-2.06-.94L8.5 2.5l-.94 2.06-2.06.94zm10 10l.94 2.06.94-2.06 2.06-.94-2.06-.94-.94-2.06-.94 2.06-2.06.94z\"/><path d=\"M17.41 7.96l-1.37-1.37c-.4-.4-.92-.59-1.43-.59-.52 0-1.04.2-1.43.59L10.3 9.45l-7.72 7.72c-.78.78-.78 2.05 0 2.83L4 21.41c.39.39.9.59 1.41.59.51 0 1.02-.2 1.41-.59l7.78-7.78 2.81-2.81c.8-.78.8-2.07 0-2.86zM5.41 20L4 18.59l7.72-7.72 1.47 1.35L5.41 20z\"/>\n",
              "  </svg>\n",
              "      </button>\n",
              "      \n",
              "  <style>\n",
              "    .colab-df-container {\n",
              "      display:flex;\n",
              "      flex-wrap:wrap;\n",
              "      gap: 12px;\n",
              "    }\n",
              "\n",
              "    .colab-df-convert {\n",
              "      background-color: #E8F0FE;\n",
              "      border: none;\n",
              "      border-radius: 50%;\n",
              "      cursor: pointer;\n",
              "      display: none;\n",
              "      fill: #1967D2;\n",
              "      height: 32px;\n",
              "      padding: 0 0 0 0;\n",
              "      width: 32px;\n",
              "    }\n",
              "\n",
              "    .colab-df-convert:hover {\n",
              "      background-color: #E2EBFA;\n",
              "      box-shadow: 0px 1px 2px rgba(60, 64, 67, 0.3), 0px 1px 3px 1px rgba(60, 64, 67, 0.15);\n",
              "      fill: #174EA6;\n",
              "    }\n",
              "\n",
              "    [theme=dark] .colab-df-convert {\n",
              "      background-color: #3B4455;\n",
              "      fill: #D2E3FC;\n",
              "    }\n",
              "\n",
              "    [theme=dark] .colab-df-convert:hover {\n",
              "      background-color: #434B5C;\n",
              "      box-shadow: 0px 1px 3px 1px rgba(0, 0, 0, 0.15);\n",
              "      filter: drop-shadow(0px 1px 2px rgba(0, 0, 0, 0.3));\n",
              "      fill: #FFFFFF;\n",
              "    }\n",
              "  </style>\n",
              "\n",
              "      <script>\n",
              "        const buttonEl =\n",
              "          document.querySelector('#df-515e722e-7da2-4034-85c5-fb151711c79e button.colab-df-convert');\n",
              "        buttonEl.style.display =\n",
              "          google.colab.kernel.accessAllowed ? 'block' : 'none';\n",
              "\n",
              "        async function convertToInteractive(key) {\n",
              "          const element = document.querySelector('#df-515e722e-7da2-4034-85c5-fb151711c79e');\n",
              "          const dataTable =\n",
              "            await google.colab.kernel.invokeFunction('convertToInteractive',\n",
              "                                                     [key], {});\n",
              "          if (!dataTable) return;\n",
              "\n",
              "          const docLinkHtml = 'Like what you see? Visit the ' +\n",
              "            '<a target=\"_blank\" href=https://colab.research.google.com/notebooks/data_table.ipynb>data table notebook</a>'\n",
              "            + ' to learn more about interactive tables.';\n",
              "          element.innerHTML = '';\n",
              "          dataTable['output_type'] = 'display_data';\n",
              "          await google.colab.output.renderOutput(dataTable, element);\n",
              "          const docLink = document.createElement('div');\n",
              "          docLink.innerHTML = docLinkHtml;\n",
              "          element.appendChild(docLink);\n",
              "        }\n",
              "      </script>\n",
              "    </div>\n",
              "  </div>\n",
              "  "
            ]
          },
          "metadata": {},
          "execution_count": 34
        }
      ]
    },
    {
      "cell_type": "code",
      "source": [
        "# Contouring and pivoting \n",
        "grid_reset = grid_contour.reset_index()\n",
        "grid_reset.columns = ['max_features', 'n_estimators', 'Accuracy']\n",
        "grid_pivot = grid_reset.pivot('max_features', 'n_estimators')\n",
        "grid_pivot"
      ],
      "metadata": {
        "id": "iQzNSJFDk9Af",
        "colab": {
          "base_uri": "https://localhost:8080/",
          "height": 488
        },
        "outputId": "784e4753-f257-43f3-b85a-9ad0aa2b19fc"
      },
      "execution_count": null,
      "outputs": [
        {
          "output_type": "execute_result",
          "data": {
            "text/plain": [
              "              Accuracy                                                    \\\n",
              "n_estimators       10        20        30        40        50        60    \n",
              "max_features                                                               \n",
              "1             0.818217  0.824225  0.823062  0.825000  0.822868  0.822868   \n",
              "2             0.820930  0.821705  0.823256  0.821124  0.825000  0.824225   \n",
              "3             0.813566  0.824031  0.821318  0.825388  0.826744  0.824806   \n",
              "4             0.820349  0.823062  0.825581  0.824612  0.826163  0.823643   \n",
              "5             0.821705  0.822287  0.826357  0.821899  0.825581  0.827713   \n",
              "6             0.816860  0.822287  0.824419  0.826744  0.824612  0.826163   \n",
              "7             0.818023  0.826744  0.823062  0.826550  0.825000  0.825581   \n",
              "8             0.815891  0.824225  0.824031  0.824612  0.826357  0.826357   \n",
              "9             0.821124  0.822287  0.825388  0.825194  0.827132  0.824612   \n",
              "10            0.821124  0.823450  0.821899  0.826163  0.823643  0.824806   \n",
              "11            0.821124  0.822287  0.822674  0.826163  0.825194  0.823837   \n",
              "12            0.820736  0.824419  0.820349  0.824612  0.825775  0.825775   \n",
              "\n",
              "                                                                          \\\n",
              "n_estimators       70        80        90        100       110       120   \n",
              "max_features                                                               \n",
              "1             0.823450  0.826550  0.825388  0.823062  0.826163  0.824806   \n",
              "2             0.823643  0.824806  0.823837  0.826744  0.824419  0.824031   \n",
              "3             0.822481  0.823450  0.824806  0.826744  0.826357  0.824031   \n",
              "4             0.822674  0.827713  0.823450  0.823643  0.824806  0.824806   \n",
              "5             0.823837  0.826357  0.823643  0.824031  0.826550  0.824031   \n",
              "6             0.826357  0.825775  0.828295  0.827713  0.826744  0.827519   \n",
              "7             0.825775  0.826163  0.825581  0.828876  0.826550  0.825775   \n",
              "8             0.824612  0.826938  0.827132  0.828488  0.825194  0.825775   \n",
              "9             0.825581  0.826357  0.826163  0.826744  0.825581  0.826550   \n",
              "10            0.827907  0.827132  0.826938  0.827326  0.827132  0.828101   \n",
              "11            0.827713  0.825581  0.827132  0.825775  0.827326  0.829651   \n",
              "12            0.826938  0.825775  0.826357  0.826938  0.829070  0.826550   \n",
              "\n",
              "                        \n",
              "n_estimators       130  \n",
              "max_features            \n",
              "1             0.824031  \n",
              "2             0.826163  \n",
              "3             0.824612  \n",
              "4             0.824225  \n",
              "5             0.825969  \n",
              "6             0.825000  \n",
              "7             0.827326  \n",
              "8             0.826744  \n",
              "9             0.827132  \n",
              "10            0.826357  \n",
              "11            0.826938  \n",
              "12            0.827326  "
            ],
            "text/html": [
              "\n",
              "  <div id=\"df-f25f73d4-17a2-4889-9cc2-a496f1d6e828\">\n",
              "    <div class=\"colab-df-container\">\n",
              "      <div>\n",
              "<style scoped>\n",
              "    .dataframe tbody tr th:only-of-type {\n",
              "        vertical-align: middle;\n",
              "    }\n",
              "\n",
              "    .dataframe tbody tr th {\n",
              "        vertical-align: top;\n",
              "    }\n",
              "\n",
              "    .dataframe thead tr th {\n",
              "        text-align: left;\n",
              "    }\n",
              "\n",
              "    .dataframe thead tr:last-of-type th {\n",
              "        text-align: right;\n",
              "    }\n",
              "</style>\n",
              "<table border=\"1\" class=\"dataframe\">\n",
              "  <thead>\n",
              "    <tr>\n",
              "      <th></th>\n",
              "      <th colspan=\"13\" halign=\"left\">Accuracy</th>\n",
              "    </tr>\n",
              "    <tr>\n",
              "      <th>n_estimators</th>\n",
              "      <th>10</th>\n",
              "      <th>20</th>\n",
              "      <th>30</th>\n",
              "      <th>40</th>\n",
              "      <th>50</th>\n",
              "      <th>60</th>\n",
              "      <th>70</th>\n",
              "      <th>80</th>\n",
              "      <th>90</th>\n",
              "      <th>100</th>\n",
              "      <th>110</th>\n",
              "      <th>120</th>\n",
              "      <th>130</th>\n",
              "    </tr>\n",
              "    <tr>\n",
              "      <th>max_features</th>\n",
              "      <th></th>\n",
              "      <th></th>\n",
              "      <th></th>\n",
              "      <th></th>\n",
              "      <th></th>\n",
              "      <th></th>\n",
              "      <th></th>\n",
              "      <th></th>\n",
              "      <th></th>\n",
              "      <th></th>\n",
              "      <th></th>\n",
              "      <th></th>\n",
              "      <th></th>\n",
              "    </tr>\n",
              "  </thead>\n",
              "  <tbody>\n",
              "    <tr>\n",
              "      <th>1</th>\n",
              "      <td>0.818217</td>\n",
              "      <td>0.824225</td>\n",
              "      <td>0.823062</td>\n",
              "      <td>0.825000</td>\n",
              "      <td>0.822868</td>\n",
              "      <td>0.822868</td>\n",
              "      <td>0.823450</td>\n",
              "      <td>0.826550</td>\n",
              "      <td>0.825388</td>\n",
              "      <td>0.823062</td>\n",
              "      <td>0.826163</td>\n",
              "      <td>0.824806</td>\n",
              "      <td>0.824031</td>\n",
              "    </tr>\n",
              "    <tr>\n",
              "      <th>2</th>\n",
              "      <td>0.820930</td>\n",
              "      <td>0.821705</td>\n",
              "      <td>0.823256</td>\n",
              "      <td>0.821124</td>\n",
              "      <td>0.825000</td>\n",
              "      <td>0.824225</td>\n",
              "      <td>0.823643</td>\n",
              "      <td>0.824806</td>\n",
              "      <td>0.823837</td>\n",
              "      <td>0.826744</td>\n",
              "      <td>0.824419</td>\n",
              "      <td>0.824031</td>\n",
              "      <td>0.826163</td>\n",
              "    </tr>\n",
              "    <tr>\n",
              "      <th>3</th>\n",
              "      <td>0.813566</td>\n",
              "      <td>0.824031</td>\n",
              "      <td>0.821318</td>\n",
              "      <td>0.825388</td>\n",
              "      <td>0.826744</td>\n",
              "      <td>0.824806</td>\n",
              "      <td>0.822481</td>\n",
              "      <td>0.823450</td>\n",
              "      <td>0.824806</td>\n",
              "      <td>0.826744</td>\n",
              "      <td>0.826357</td>\n",
              "      <td>0.824031</td>\n",
              "      <td>0.824612</td>\n",
              "    </tr>\n",
              "    <tr>\n",
              "      <th>4</th>\n",
              "      <td>0.820349</td>\n",
              "      <td>0.823062</td>\n",
              "      <td>0.825581</td>\n",
              "      <td>0.824612</td>\n",
              "      <td>0.826163</td>\n",
              "      <td>0.823643</td>\n",
              "      <td>0.822674</td>\n",
              "      <td>0.827713</td>\n",
              "      <td>0.823450</td>\n",
              "      <td>0.823643</td>\n",
              "      <td>0.824806</td>\n",
              "      <td>0.824806</td>\n",
              "      <td>0.824225</td>\n",
              "    </tr>\n",
              "    <tr>\n",
              "      <th>5</th>\n",
              "      <td>0.821705</td>\n",
              "      <td>0.822287</td>\n",
              "      <td>0.826357</td>\n",
              "      <td>0.821899</td>\n",
              "      <td>0.825581</td>\n",
              "      <td>0.827713</td>\n",
              "      <td>0.823837</td>\n",
              "      <td>0.826357</td>\n",
              "      <td>0.823643</td>\n",
              "      <td>0.824031</td>\n",
              "      <td>0.826550</td>\n",
              "      <td>0.824031</td>\n",
              "      <td>0.825969</td>\n",
              "    </tr>\n",
              "    <tr>\n",
              "      <th>6</th>\n",
              "      <td>0.816860</td>\n",
              "      <td>0.822287</td>\n",
              "      <td>0.824419</td>\n",
              "      <td>0.826744</td>\n",
              "      <td>0.824612</td>\n",
              "      <td>0.826163</td>\n",
              "      <td>0.826357</td>\n",
              "      <td>0.825775</td>\n",
              "      <td>0.828295</td>\n",
              "      <td>0.827713</td>\n",
              "      <td>0.826744</td>\n",
              "      <td>0.827519</td>\n",
              "      <td>0.825000</td>\n",
              "    </tr>\n",
              "    <tr>\n",
              "      <th>7</th>\n",
              "      <td>0.818023</td>\n",
              "      <td>0.826744</td>\n",
              "      <td>0.823062</td>\n",
              "      <td>0.826550</td>\n",
              "      <td>0.825000</td>\n",
              "      <td>0.825581</td>\n",
              "      <td>0.825775</td>\n",
              "      <td>0.826163</td>\n",
              "      <td>0.825581</td>\n",
              "      <td>0.828876</td>\n",
              "      <td>0.826550</td>\n",
              "      <td>0.825775</td>\n",
              "      <td>0.827326</td>\n",
              "    </tr>\n",
              "    <tr>\n",
              "      <th>8</th>\n",
              "      <td>0.815891</td>\n",
              "      <td>0.824225</td>\n",
              "      <td>0.824031</td>\n",
              "      <td>0.824612</td>\n",
              "      <td>0.826357</td>\n",
              "      <td>0.826357</td>\n",
              "      <td>0.824612</td>\n",
              "      <td>0.826938</td>\n",
              "      <td>0.827132</td>\n",
              "      <td>0.828488</td>\n",
              "      <td>0.825194</td>\n",
              "      <td>0.825775</td>\n",
              "      <td>0.826744</td>\n",
              "    </tr>\n",
              "    <tr>\n",
              "      <th>9</th>\n",
              "      <td>0.821124</td>\n",
              "      <td>0.822287</td>\n",
              "      <td>0.825388</td>\n",
              "      <td>0.825194</td>\n",
              "      <td>0.827132</td>\n",
              "      <td>0.824612</td>\n",
              "      <td>0.825581</td>\n",
              "      <td>0.826357</td>\n",
              "      <td>0.826163</td>\n",
              "      <td>0.826744</td>\n",
              "      <td>0.825581</td>\n",
              "      <td>0.826550</td>\n",
              "      <td>0.827132</td>\n",
              "    </tr>\n",
              "    <tr>\n",
              "      <th>10</th>\n",
              "      <td>0.821124</td>\n",
              "      <td>0.823450</td>\n",
              "      <td>0.821899</td>\n",
              "      <td>0.826163</td>\n",
              "      <td>0.823643</td>\n",
              "      <td>0.824806</td>\n",
              "      <td>0.827907</td>\n",
              "      <td>0.827132</td>\n",
              "      <td>0.826938</td>\n",
              "      <td>0.827326</td>\n",
              "      <td>0.827132</td>\n",
              "      <td>0.828101</td>\n",
              "      <td>0.826357</td>\n",
              "    </tr>\n",
              "    <tr>\n",
              "      <th>11</th>\n",
              "      <td>0.821124</td>\n",
              "      <td>0.822287</td>\n",
              "      <td>0.822674</td>\n",
              "      <td>0.826163</td>\n",
              "      <td>0.825194</td>\n",
              "      <td>0.823837</td>\n",
              "      <td>0.827713</td>\n",
              "      <td>0.825581</td>\n",
              "      <td>0.827132</td>\n",
              "      <td>0.825775</td>\n",
              "      <td>0.827326</td>\n",
              "      <td>0.829651</td>\n",
              "      <td>0.826938</td>\n",
              "    </tr>\n",
              "    <tr>\n",
              "      <th>12</th>\n",
              "      <td>0.820736</td>\n",
              "      <td>0.824419</td>\n",
              "      <td>0.820349</td>\n",
              "      <td>0.824612</td>\n",
              "      <td>0.825775</td>\n",
              "      <td>0.825775</td>\n",
              "      <td>0.826938</td>\n",
              "      <td>0.825775</td>\n",
              "      <td>0.826357</td>\n",
              "      <td>0.826938</td>\n",
              "      <td>0.829070</td>\n",
              "      <td>0.826550</td>\n",
              "      <td>0.827326</td>\n",
              "    </tr>\n",
              "  </tbody>\n",
              "</table>\n",
              "</div>\n",
              "      <button class=\"colab-df-convert\" onclick=\"convertToInteractive('df-f25f73d4-17a2-4889-9cc2-a496f1d6e828')\"\n",
              "              title=\"Convert this dataframe to an interactive table.\"\n",
              "              style=\"display:none;\">\n",
              "        \n",
              "  <svg xmlns=\"http://www.w3.org/2000/svg\" height=\"24px\"viewBox=\"0 0 24 24\"\n",
              "       width=\"24px\">\n",
              "    <path d=\"M0 0h24v24H0V0z\" fill=\"none\"/>\n",
              "    <path d=\"M18.56 5.44l.94 2.06.94-2.06 2.06-.94-2.06-.94-.94-2.06-.94 2.06-2.06.94zm-11 1L8.5 8.5l.94-2.06 2.06-.94-2.06-.94L8.5 2.5l-.94 2.06-2.06.94zm10 10l.94 2.06.94-2.06 2.06-.94-2.06-.94-.94-2.06-.94 2.06-2.06.94z\"/><path d=\"M17.41 7.96l-1.37-1.37c-.4-.4-.92-.59-1.43-.59-.52 0-1.04.2-1.43.59L10.3 9.45l-7.72 7.72c-.78.78-.78 2.05 0 2.83L4 21.41c.39.39.9.59 1.41.59.51 0 1.02-.2 1.41-.59l7.78-7.78 2.81-2.81c.8-.78.8-2.07 0-2.86zM5.41 20L4 18.59l7.72-7.72 1.47 1.35L5.41 20z\"/>\n",
              "  </svg>\n",
              "      </button>\n",
              "      \n",
              "  <style>\n",
              "    .colab-df-container {\n",
              "      display:flex;\n",
              "      flex-wrap:wrap;\n",
              "      gap: 12px;\n",
              "    }\n",
              "\n",
              "    .colab-df-convert {\n",
              "      background-color: #E8F0FE;\n",
              "      border: none;\n",
              "      border-radius: 50%;\n",
              "      cursor: pointer;\n",
              "      display: none;\n",
              "      fill: #1967D2;\n",
              "      height: 32px;\n",
              "      padding: 0 0 0 0;\n",
              "      width: 32px;\n",
              "    }\n",
              "\n",
              "    .colab-df-convert:hover {\n",
              "      background-color: #E2EBFA;\n",
              "      box-shadow: 0px 1px 2px rgba(60, 64, 67, 0.3), 0px 1px 3px 1px rgba(60, 64, 67, 0.15);\n",
              "      fill: #174EA6;\n",
              "    }\n",
              "\n",
              "    [theme=dark] .colab-df-convert {\n",
              "      background-color: #3B4455;\n",
              "      fill: #D2E3FC;\n",
              "    }\n",
              "\n",
              "    [theme=dark] .colab-df-convert:hover {\n",
              "      background-color: #434B5C;\n",
              "      box-shadow: 0px 1px 3px 1px rgba(0, 0, 0, 0.15);\n",
              "      filter: drop-shadow(0px 1px 2px rgba(0, 0, 0, 0.3));\n",
              "      fill: #FFFFFF;\n",
              "    }\n",
              "  </style>\n",
              "\n",
              "      <script>\n",
              "        const buttonEl =\n",
              "          document.querySelector('#df-f25f73d4-17a2-4889-9cc2-a496f1d6e828 button.colab-df-convert');\n",
              "        buttonEl.style.display =\n",
              "          google.colab.kernel.accessAllowed ? 'block' : 'none';\n",
              "\n",
              "        async function convertToInteractive(key) {\n",
              "          const element = document.querySelector('#df-f25f73d4-17a2-4889-9cc2-a496f1d6e828');\n",
              "          const dataTable =\n",
              "            await google.colab.kernel.invokeFunction('convertToInteractive',\n",
              "                                                     [key], {});\n",
              "          if (!dataTable) return;\n",
              "\n",
              "          const docLinkHtml = 'Like what you see? Visit the ' +\n",
              "            '<a target=\"_blank\" href=https://colab.research.google.com/notebooks/data_table.ipynb>data table notebook</a>'\n",
              "            + ' to learn more about interactive tables.';\n",
              "          element.innerHTML = '';\n",
              "          dataTable['output_type'] = 'display_data';\n",
              "          await google.colab.output.renderOutput(dataTable, element);\n",
              "          const docLink = document.createElement('div');\n",
              "          docLink.innerHTML = docLinkHtml;\n",
              "          element.appendChild(docLink);\n",
              "        }\n",
              "      </script>\n",
              "    </div>\n",
              "  </div>\n",
              "  "
            ]
          },
          "metadata": {},
          "execution_count": 35
        }
      ]
    },
    {
      "cell_type": "code",
      "source": [
        "x = grid_pivot.columns.levels[1].values\n",
        "y = grid_pivot.index.values\n",
        "z = grid_pivot.values"
      ],
      "metadata": {
        "id": "Egbu1XWHk9Cy"
      },
      "execution_count": null,
      "outputs": []
    },
    {
      "cell_type": "markdown",
      "source": [
        "Source:https://github.com/dataprofessor/code/blob/master/python/hyperparameter_tuning.ipynb\n",
        "Note: It is learned form this link. "
      ],
      "metadata": {
        "id": "0fOzdZLfVEOW"
      }
    },
    {
      "cell_type": "code",
      "source": [
        "# 2D Counter plot\n",
        "import plotly.graph_objects as go\n",
        "\n",
        "# X and Y axes labels\n",
        "layout = go.Layout(\n",
        "            xaxis=go.layout.XAxis(\n",
        "              title=go.layout.xaxis.Title(\n",
        "              text='n_estimators')\n",
        "             ),\n",
        "             yaxis=go.layout.YAxis(\n",
        "              title=go.layout.yaxis.Title(\n",
        "              text='max_features') \n",
        "            ) )\n",
        "\n",
        "fig = go.Figure(data = [go.Contour(z=z, x=x, y=y)], layout=layout )\n",
        "\n",
        "fig.update_layout(title='Hyperparameter tuning', autosize=False,\n",
        "                  width=500, height=500,\n",
        "                  margin=dict(l=65, r=50, b=65, t=90))\n",
        "\n",
        "fig.show()"
      ],
      "metadata": {
        "id": "qPptYu-nk9E4",
        "colab": {
          "base_uri": "https://localhost:8080/",
          "height": 517
        },
        "outputId": "6ddaca4d-0dfc-419c-d7f1-6d04a86b0828"
      },
      "execution_count": null,
      "outputs": [
        {
          "output_type": "display_data",
          "data": {
            "text/html": [
              "<html>\n",
              "<head><meta charset=\"utf-8\" /></head>\n",
              "<body>\n",
              "    <div>            <script src=\"https://cdnjs.cloudflare.com/ajax/libs/mathjax/2.7.5/MathJax.js?config=TeX-AMS-MML_SVG\"></script><script type=\"text/javascript\">if (window.MathJax) {MathJax.Hub.Config({SVG: {font: \"STIX-Web\"}});}</script>                <script type=\"text/javascript\">window.PlotlyConfig = {MathJaxConfig: 'local'};</script>\n",
              "        <script src=\"https://cdn.plot.ly/plotly-2.8.3.min.js\"></script>                <div id=\"125d972d-28c7-4900-b159-320cafb5c427\" class=\"plotly-graph-div\" style=\"height:500px; width:500px;\"></div>            <script type=\"text/javascript\">                                    window.PLOTLYENV=window.PLOTLYENV || {};                                    if (document.getElementById(\"125d972d-28c7-4900-b159-320cafb5c427\")) {                    Plotly.newPlot(                        \"125d972d-28c7-4900-b159-320cafb5c427\",                        [{\"x\":[10,20,30,40,50,60,70,80,90,100,110,120,130],\"y\":[1,2,3,4,5,6,7,8,9,10,11,12],\"z\":[[0.8182170542635658,0.8242248062015504,0.823062015503876,0.825,0.8228682170542635,0.8228682170542637,0.8234496124031008,0.8265503875968992,0.8253875968992249,0.823062015503876,0.8261627906976745,0.8248062015503876,0.824031007751938],[0.8209302325581396,0.8217054263565892,0.8232558139534885,0.8211240310077519,0.825,0.8242248062015504,0.8236434108527131,0.8248062015503876,0.8238372093023256,0.8267441860465116,0.8244186046511628,0.824031007751938,0.8261627906976745],[0.8135658914728682,0.824031007751938,0.8213178294573643,0.8253875968992249,0.8267441860465116,0.8248062015503876,0.8224806201550388,0.8234496124031008,0.8248062015503876,0.8267441860465116,0.8263565891472868,0.824031007751938,0.8246124031007753],[0.8203488372093023,0.823062015503876,0.8255813953488372,0.8246124031007751,0.8261627906976743,0.8236434108527133,0.8226744186046512,0.8277131782945737,0.8234496124031008,0.8236434108527131,0.8248062015503876,0.8248062015503876,0.8242248062015504],[0.8217054263565892,0.8222868217054264,0.8263565891472868,0.8218992248062016,0.8255813953488372,0.8277131782945736,0.8238372093023255,0.8263565891472868,0.8236434108527133,0.824031007751938,0.8265503875968992,0.824031007751938,0.825968992248062],[0.8168604651162792,0.8222868217054264,0.8244186046511629,0.8267441860465118,0.8246124031007753,0.8261627906976743,0.8263565891472868,0.8257751937984497,0.828294573643411,0.8277131782945736,0.8267441860465116,0.8275193798449612,0.825],[0.8180232558139535,0.8267441860465116,0.823062015503876,0.8265503875968992,0.825,0.8255813953488372,0.8257751937984497,0.8261627906976745,0.8255813953488372,0.828875968992248,0.8265503875968992,0.8257751937984497,0.8273255813953488],[0.815891472868217,0.8242248062015504,0.824031007751938,0.8246124031007751,0.8263565891472868,0.8263565891472868,0.8246124031007751,0.826937984496124,0.8271317829457365,0.8284883720930232,0.8251937984496124,0.8257751937984497,0.8267441860465116],[0.8211240310077519,0.8222868217054264,0.8253875968992249,0.8251937984496124,0.8271317829457365,0.8246124031007753,0.8255813953488372,0.8263565891472868,0.8261627906976745,0.8267441860465116,0.8255813953488372,0.8265503875968992,0.8271317829457365],[0.8211240310077519,0.8234496124031008,0.8218992248062016,0.8261627906976743,0.8236434108527131,0.8248062015503876,0.8279069767441861,0.8271317829457365,0.8269379844961241,0.8273255813953488,0.8271317829457365,0.8281007751937984,0.8263565891472868],[0.8211240310077519,0.8222868217054264,0.8226744186046512,0.8261627906976745,0.8251937984496125,0.8238372093023255,0.8277131782945737,0.8255813953488372,0.8271317829457365,0.8257751937984497,0.8273255813953488,0.8296511627906977,0.8269379844961241],[0.8207364341085273,0.8244186046511628,0.8203488372093023,0.8246124031007753,0.8257751937984497,0.8257751937984497,0.8269379844961241,0.8257751937984497,0.8263565891472868,0.826937984496124,0.8290697674418605,0.8265503875968992,0.8273255813953488]],\"type\":\"contour\"}],                        {\"xaxis\":{\"title\":{\"text\":\"n_estimators\"}},\"yaxis\":{\"title\":{\"text\":\"max_features\"}},\"template\":{\"data\":{\"bar\":[{\"error_x\":{\"color\":\"#2a3f5f\"},\"error_y\":{\"color\":\"#2a3f5f\"},\"marker\":{\"line\":{\"color\":\"#E5ECF6\",\"width\":0.5},\"pattern\":{\"fillmode\":\"overlay\",\"size\":10,\"solidity\":0.2}},\"type\":\"bar\"}],\"barpolar\":[{\"marker\":{\"line\":{\"color\":\"#E5ECF6\",\"width\":0.5},\"pattern\":{\"fillmode\":\"overlay\",\"size\":10,\"solidity\":0.2}},\"type\":\"barpolar\"}],\"carpet\":[{\"aaxis\":{\"endlinecolor\":\"#2a3f5f\",\"gridcolor\":\"white\",\"linecolor\":\"white\",\"minorgridcolor\":\"white\",\"startlinecolor\":\"#2a3f5f\"},\"baxis\":{\"endlinecolor\":\"#2a3f5f\",\"gridcolor\":\"white\",\"linecolor\":\"white\",\"minorgridcolor\":\"white\",\"startlinecolor\":\"#2a3f5f\"},\"type\":\"carpet\"}],\"choropleth\":[{\"colorbar\":{\"outlinewidth\":0,\"ticks\":\"\"},\"type\":\"choropleth\"}],\"contour\":[{\"colorbar\":{\"outlinewidth\":0,\"ticks\":\"\"},\"colorscale\":[[0.0,\"#0d0887\"],[0.1111111111111111,\"#46039f\"],[0.2222222222222222,\"#7201a8\"],[0.3333333333333333,\"#9c179e\"],[0.4444444444444444,\"#bd3786\"],[0.5555555555555556,\"#d8576b\"],[0.6666666666666666,\"#ed7953\"],[0.7777777777777778,\"#fb9f3a\"],[0.8888888888888888,\"#fdca26\"],[1.0,\"#f0f921\"]],\"type\":\"contour\"}],\"contourcarpet\":[{\"colorbar\":{\"outlinewidth\":0,\"ticks\":\"\"},\"type\":\"contourcarpet\"}],\"heatmap\":[{\"colorbar\":{\"outlinewidth\":0,\"ticks\":\"\"},\"colorscale\":[[0.0,\"#0d0887\"],[0.1111111111111111,\"#46039f\"],[0.2222222222222222,\"#7201a8\"],[0.3333333333333333,\"#9c179e\"],[0.4444444444444444,\"#bd3786\"],[0.5555555555555556,\"#d8576b\"],[0.6666666666666666,\"#ed7953\"],[0.7777777777777778,\"#fb9f3a\"],[0.8888888888888888,\"#fdca26\"],[1.0,\"#f0f921\"]],\"type\":\"heatmap\"}],\"heatmapgl\":[{\"colorbar\":{\"outlinewidth\":0,\"ticks\":\"\"},\"colorscale\":[[0.0,\"#0d0887\"],[0.1111111111111111,\"#46039f\"],[0.2222222222222222,\"#7201a8\"],[0.3333333333333333,\"#9c179e\"],[0.4444444444444444,\"#bd3786\"],[0.5555555555555556,\"#d8576b\"],[0.6666666666666666,\"#ed7953\"],[0.7777777777777778,\"#fb9f3a\"],[0.8888888888888888,\"#fdca26\"],[1.0,\"#f0f921\"]],\"type\":\"heatmapgl\"}],\"histogram\":[{\"marker\":{\"pattern\":{\"fillmode\":\"overlay\",\"size\":10,\"solidity\":0.2}},\"type\":\"histogram\"}],\"histogram2d\":[{\"colorbar\":{\"outlinewidth\":0,\"ticks\":\"\"},\"colorscale\":[[0.0,\"#0d0887\"],[0.1111111111111111,\"#46039f\"],[0.2222222222222222,\"#7201a8\"],[0.3333333333333333,\"#9c179e\"],[0.4444444444444444,\"#bd3786\"],[0.5555555555555556,\"#d8576b\"],[0.6666666666666666,\"#ed7953\"],[0.7777777777777778,\"#fb9f3a\"],[0.8888888888888888,\"#fdca26\"],[1.0,\"#f0f921\"]],\"type\":\"histogram2d\"}],\"histogram2dcontour\":[{\"colorbar\":{\"outlinewidth\":0,\"ticks\":\"\"},\"colorscale\":[[0.0,\"#0d0887\"],[0.1111111111111111,\"#46039f\"],[0.2222222222222222,\"#7201a8\"],[0.3333333333333333,\"#9c179e\"],[0.4444444444444444,\"#bd3786\"],[0.5555555555555556,\"#d8576b\"],[0.6666666666666666,\"#ed7953\"],[0.7777777777777778,\"#fb9f3a\"],[0.8888888888888888,\"#fdca26\"],[1.0,\"#f0f921\"]],\"type\":\"histogram2dcontour\"}],\"mesh3d\":[{\"colorbar\":{\"outlinewidth\":0,\"ticks\":\"\"},\"type\":\"mesh3d\"}],\"parcoords\":[{\"line\":{\"colorbar\":{\"outlinewidth\":0,\"ticks\":\"\"}},\"type\":\"parcoords\"}],\"pie\":[{\"automargin\":true,\"type\":\"pie\"}],\"scatter\":[{\"marker\":{\"colorbar\":{\"outlinewidth\":0,\"ticks\":\"\"}},\"type\":\"scatter\"}],\"scatter3d\":[{\"line\":{\"colorbar\":{\"outlinewidth\":0,\"ticks\":\"\"}},\"marker\":{\"colorbar\":{\"outlinewidth\":0,\"ticks\":\"\"}},\"type\":\"scatter3d\"}],\"scattercarpet\":[{\"marker\":{\"colorbar\":{\"outlinewidth\":0,\"ticks\":\"\"}},\"type\":\"scattercarpet\"}],\"scattergeo\":[{\"marker\":{\"colorbar\":{\"outlinewidth\":0,\"ticks\":\"\"}},\"type\":\"scattergeo\"}],\"scattergl\":[{\"marker\":{\"colorbar\":{\"outlinewidth\":0,\"ticks\":\"\"}},\"type\":\"scattergl\"}],\"scattermapbox\":[{\"marker\":{\"colorbar\":{\"outlinewidth\":0,\"ticks\":\"\"}},\"type\":\"scattermapbox\"}],\"scatterpolar\":[{\"marker\":{\"colorbar\":{\"outlinewidth\":0,\"ticks\":\"\"}},\"type\":\"scatterpolar\"}],\"scatterpolargl\":[{\"marker\":{\"colorbar\":{\"outlinewidth\":0,\"ticks\":\"\"}},\"type\":\"scatterpolargl\"}],\"scatterternary\":[{\"marker\":{\"colorbar\":{\"outlinewidth\":0,\"ticks\":\"\"}},\"type\":\"scatterternary\"}],\"surface\":[{\"colorbar\":{\"outlinewidth\":0,\"ticks\":\"\"},\"colorscale\":[[0.0,\"#0d0887\"],[0.1111111111111111,\"#46039f\"],[0.2222222222222222,\"#7201a8\"],[0.3333333333333333,\"#9c179e\"],[0.4444444444444444,\"#bd3786\"],[0.5555555555555556,\"#d8576b\"],[0.6666666666666666,\"#ed7953\"],[0.7777777777777778,\"#fb9f3a\"],[0.8888888888888888,\"#fdca26\"],[1.0,\"#f0f921\"]],\"type\":\"surface\"}],\"table\":[{\"cells\":{\"fill\":{\"color\":\"#EBF0F8\"},\"line\":{\"color\":\"white\"}},\"header\":{\"fill\":{\"color\":\"#C8D4E3\"},\"line\":{\"color\":\"white\"}},\"type\":\"table\"}]},\"layout\":{\"annotationdefaults\":{\"arrowcolor\":\"#2a3f5f\",\"arrowhead\":0,\"arrowwidth\":1},\"autotypenumbers\":\"strict\",\"coloraxis\":{\"colorbar\":{\"outlinewidth\":0,\"ticks\":\"\"}},\"colorscale\":{\"diverging\":[[0,\"#8e0152\"],[0.1,\"#c51b7d\"],[0.2,\"#de77ae\"],[0.3,\"#f1b6da\"],[0.4,\"#fde0ef\"],[0.5,\"#f7f7f7\"],[0.6,\"#e6f5d0\"],[0.7,\"#b8e186\"],[0.8,\"#7fbc41\"],[0.9,\"#4d9221\"],[1,\"#276419\"]],\"sequential\":[[0.0,\"#0d0887\"],[0.1111111111111111,\"#46039f\"],[0.2222222222222222,\"#7201a8\"],[0.3333333333333333,\"#9c179e\"],[0.4444444444444444,\"#bd3786\"],[0.5555555555555556,\"#d8576b\"],[0.6666666666666666,\"#ed7953\"],[0.7777777777777778,\"#fb9f3a\"],[0.8888888888888888,\"#fdca26\"],[1.0,\"#f0f921\"]],\"sequentialminus\":[[0.0,\"#0d0887\"],[0.1111111111111111,\"#46039f\"],[0.2222222222222222,\"#7201a8\"],[0.3333333333333333,\"#9c179e\"],[0.4444444444444444,\"#bd3786\"],[0.5555555555555556,\"#d8576b\"],[0.6666666666666666,\"#ed7953\"],[0.7777777777777778,\"#fb9f3a\"],[0.8888888888888888,\"#fdca26\"],[1.0,\"#f0f921\"]]},\"colorway\":[\"#636efa\",\"#EF553B\",\"#00cc96\",\"#ab63fa\",\"#FFA15A\",\"#19d3f3\",\"#FF6692\",\"#B6E880\",\"#FF97FF\",\"#FECB52\"],\"font\":{\"color\":\"#2a3f5f\"},\"geo\":{\"bgcolor\":\"white\",\"lakecolor\":\"white\",\"landcolor\":\"#E5ECF6\",\"showlakes\":true,\"showland\":true,\"subunitcolor\":\"white\"},\"hoverlabel\":{\"align\":\"left\"},\"hovermode\":\"closest\",\"mapbox\":{\"style\":\"light\"},\"paper_bgcolor\":\"white\",\"plot_bgcolor\":\"#E5ECF6\",\"polar\":{\"angularaxis\":{\"gridcolor\":\"white\",\"linecolor\":\"white\",\"ticks\":\"\"},\"bgcolor\":\"#E5ECF6\",\"radialaxis\":{\"gridcolor\":\"white\",\"linecolor\":\"white\",\"ticks\":\"\"}},\"scene\":{\"xaxis\":{\"backgroundcolor\":\"#E5ECF6\",\"gridcolor\":\"white\",\"gridwidth\":2,\"linecolor\":\"white\",\"showbackground\":true,\"ticks\":\"\",\"zerolinecolor\":\"white\"},\"yaxis\":{\"backgroundcolor\":\"#E5ECF6\",\"gridcolor\":\"white\",\"gridwidth\":2,\"linecolor\":\"white\",\"showbackground\":true,\"ticks\":\"\",\"zerolinecolor\":\"white\"},\"zaxis\":{\"backgroundcolor\":\"#E5ECF6\",\"gridcolor\":\"white\",\"gridwidth\":2,\"linecolor\":\"white\",\"showbackground\":true,\"ticks\":\"\",\"zerolinecolor\":\"white\"}},\"shapedefaults\":{\"line\":{\"color\":\"#2a3f5f\"}},\"ternary\":{\"aaxis\":{\"gridcolor\":\"white\",\"linecolor\":\"white\",\"ticks\":\"\"},\"baxis\":{\"gridcolor\":\"white\",\"linecolor\":\"white\",\"ticks\":\"\"},\"bgcolor\":\"#E5ECF6\",\"caxis\":{\"gridcolor\":\"white\",\"linecolor\":\"white\",\"ticks\":\"\"}},\"title\":{\"x\":0.05},\"xaxis\":{\"automargin\":true,\"gridcolor\":\"white\",\"linecolor\":\"white\",\"ticks\":\"\",\"title\":{\"standoff\":15},\"zerolinecolor\":\"white\",\"zerolinewidth\":2},\"yaxis\":{\"automargin\":true,\"gridcolor\":\"white\",\"linecolor\":\"white\",\"ticks\":\"\",\"title\":{\"standoff\":15},\"zerolinecolor\":\"white\",\"zerolinewidth\":2}}},\"margin\":{\"l\":65,\"r\":50,\"b\":65,\"t\":90},\"title\":{\"text\":\"Hyperparameter tuning\"},\"autosize\":false,\"width\":500,\"height\":500},                        {\"responsive\": true}                    ).then(function(){\n",
              "                            \n",
              "var gd = document.getElementById('125d972d-28c7-4900-b159-320cafb5c427');\n",
              "var x = new MutationObserver(function (mutations, observer) {{\n",
              "        var display = window.getComputedStyle(gd).display;\n",
              "        if (!display || display === 'none') {{\n",
              "            console.log([gd, 'removed!']);\n",
              "            Plotly.purge(gd);\n",
              "            observer.disconnect();\n",
              "        }}\n",
              "}});\n",
              "\n",
              "// Listen for the removal of the full notebook cells\n",
              "var notebookContainer = gd.closest('#notebook-container');\n",
              "if (notebookContainer) {{\n",
              "    x.observe(notebookContainer, {childList: true});\n",
              "}}\n",
              "\n",
              "// Listen for the clearing of the current output cell\n",
              "var outputEl = gd.closest('.output');\n",
              "if (outputEl) {{\n",
              "    x.observe(outputEl, {childList: true});\n",
              "}}\n",
              "\n",
              "                        })                };                            </script>        </div>\n",
              "</body>\n",
              "</html>"
            ]
          },
          "metadata": {}
        }
      ]
    },
    {
      "cell_type": "code",
      "source": [
        "### Cross Validation   #############\n",
        "# Cross validation is a way we use our training data in order to get good estimates of how well our model will perform on data it has not seen before, i.e., test data.\n",
        "#Note, best estimator is using the test data, but its a good way to check before using test data.\n",
        "# We use K-fold cross validation when we have un-balanced data set\n",
        "from sklearn.model_selection import KFold\n",
        "from sklearn.model_selection import cross_val_score\n",
        "from sklearn.model_selection import StratifiedKFold\n",
        "from sklearn import svm\n",
        "svm_clf = svm.SVC(kernel='linear',C=100)\n",
        "scores=cross_val_score(svm_clf, X_train, y_train ,cv=5)\n",
        "print(scores)"
      ],
      "metadata": {
        "id": "5TRmHaoJk9Ic"
      },
      "execution_count": null,
      "outputs": []
    },
    {
      "cell_type": "code",
      "source": [
        ""
      ],
      "metadata": {
        "id": "kuVGtCvcydtH"
      },
      "execution_count": null,
      "outputs": []
    },
    {
      "cell_type": "code",
      "source": [
        "# This function is taken from class lectures. \n",
        "def print_variable_importances( feature_names, dict_in, show_top = 10 ):\n",
        "  \"\"\"\n",
        "  Prints a table of feature importance scores.\n",
        "  \n",
        "  Keyword arguments\n",
        "  feature_names -- list of feature names. Must have the same ordering as the \n",
        "                   scores in each instance of list_of_scores (see below)\n",
        "  dict_in       -- dictionary of the form {method_name:list_of_scores} where:\n",
        "                   method_name    -- string\n",
        "                   list_of_scores -- list of scores, ordered in the same order\n",
        "                                     as the passed feature_names\n",
        "  show_top      -- number of features to show (default 10, None to print all)\n",
        "  \"\"\"\n",
        "\n",
        "\n",
        "  # \n",
        "  if show_top is None:\n",
        "    show_top = len(feature_names)\n",
        "  \n",
        "  # Set up lists to hold the titles and score_feature tuples\n",
        "  # We need a list so that they maintain fixed order as we \n",
        "  # iterate over them row-by-row.\n",
        "  to_print_titles = []\n",
        "  to_print_scores = []\n",
        "  \n",
        "  # Pair each list of scores with a copy of the feature names and sort\n",
        "  # based on the variable importance score descending\n",
        "  for k, v in dict_in.items():\n",
        "    # zip pairs, sorted sorts, reverse orders descending\n",
        "    feature_names_plus_scores = sorted( zip(v, feature_names) )\n",
        "    feature_names_plus_scores.reverse()\n",
        "    to_print_titles.append(k)\n",
        "    to_print_scores.append(feature_names_plus_scores)\n",
        "    \n",
        "    \n",
        "  # Print the scores\n",
        "  \n",
        "  # Create a list of strings to print in each header cell\n",
        "  line_parts = []\n",
        "  for j in range(len(to_print_titles)):\n",
        "    line_parts.append('{:<38}'.format(to_print_titles[j]))\n",
        "  \n",
        "  # Print each header cell using a separator ' | ', adding the fixed rank column header \n",
        "  print('Rank | ' + ' | '.join( ['{:<38}'.format(x) for x in to_print_titles] ) )\n",
        "  \n",
        "  # Print the header underline\n",
        "  print('---- + ' + ' + '.join( [ '-'*38 ]*len(to_print_titles) ) )\n",
        "  \n",
        "  # Print each line\n",
        "  for i in range(show_top):\n",
        "    # Create a list of strings to print for each row cell\n",
        "    line_parts = []\n",
        "    for j in range(len(to_print_titles)):\n",
        "      line_parts.append(  '{:<30}: {:.4f}'.format(to_print_scores[j][i][1], to_print_scores[j][i][0]) )\n",
        "    # Print the row by:\n",
        "    # (1) joining each row cell using a separator ' | '\n",
        "    # (2) adding the fixed rank column header \n",
        "    print( '{:<4} | '.format(str(i)) + ' | '.join(line_parts) )\n",
        "      \n",
        "    \n",
        " "
      ],
      "metadata": {
        "id": "YzNumQTakOEu"
      },
      "execution_count": null,
      "outputs": []
    },
    {
      "cell_type": "code",
      "source": [
        "import numpy as np\n",
        "from sklearn.feature_selection import VarianceThreshold\n",
        "\n",
        "vt = VarianceThreshold(threshold = 0.0)\n",
        "vt.fit(X_train)\n",
        "\n",
        "#np.invert( vt.get_support() )\n",
        "\n",
        "X_train.columns[np.invert(vt.get_support())]\n"
      ],
      "metadata": {
        "id": "dYufLvgcr86U"
      },
      "execution_count": null,
      "outputs": []
    },
    {
      "cell_type": "code",
      "source": [
        "from sklearn.feature_selection import GenericUnivariateSelect, mutual_info_classif"
      ],
      "metadata": {
        "id": "UWAHk2_0sKgV"
      },
      "execution_count": null,
      "outputs": []
    },
    {
      "cell_type": "code",
      "source": [
        "\n",
        "\n",
        "selector = GenericUnivariateSelect( score_func = mutual_info_classif, mode = 'k_best', param = 10)\n",
        "\n",
        "selector.fit(X_train, y_train)\n",
        "\n"
      ],
      "metadata": {
        "id": "jAAngxBKsShm"
      },
      "execution_count": null,
      "outputs": []
    },
    {
      "cell_type": "code",
      "source": [
        "\n",
        "\n",
        "feature_importance_scores = {}\n",
        "feature_importance_scores['Filter'] = selector.scores_\n",
        "\n",
        "print_variable_importances( X_train.columns, feature_importance_scores )"
      ],
      "metadata": {
        "id": "H0RbtJKlsS1N"
      },
      "execution_count": null,
      "outputs": []
    },
    {
      "cell_type": "code",
      "source": [
        ""
      ],
      "metadata": {
        "id": "CSu0KQndkOGp"
      },
      "execution_count": null,
      "outputs": []
    },
    {
      "cell_type": "markdown",
      "source": [
        "II. Hyper Parameter Tuning/Optimization for SVc"
      ],
      "metadata": {
        "id": "485_e3uhmhlD"
      }
    },
    {
      "cell_type": "code",
      "source": [
        "#B. Support Vector Machine Hyper Parameter Tuning\n",
        "#Three kernals: rbf, poly and linear. We will use just rbf as it takes a lot of time to process. However, for more accurate kernal, all three shoudl be tried even at the expense of long processing time."
      ],
      "metadata": {
        "id": "Ut97haH4mULt"
      },
      "execution_count": null,
      "outputs": []
    },
    {
      "cell_type": "code",
      "source": [
        "# Hyper parameterization of SVC\n",
        "from sklearn.model_selection import GridSearchCV\n",
        "# Kernal parameters seperate data through planes. For instnce, rbf and poly seperate data in a non-linear hyper-plane\n",
        "# linear in linear plane\n",
        "# Gamma fits the training data set. Higher the gamma, higher its fitting of training data set.\n",
        "# C is the penalty paramter of the error term. It controls trade off between smooth decision boundary and classifying the training points correctly.\n",
        "# Degree is used to find the hyperplane to split the data.\n",
        "param_grid={'C':[0.1,1,100,1000],'kernel':['rbf'],'gamma':[0.01,0.03,0.1,0.3,1,3,10,30,100]}\n",
        "grid=GridSearchCV(SVC(),param_grid)\n",
        "grid.fit(X_train,y_train)"
      ],
      "metadata": {
        "id": "3M8KakEXmUOV"
      },
      "execution_count": null,
      "outputs": []
    },
    {
      "cell_type": "code",
      "source": [
        "print(\"Best parameters for svm model :\",grid.best_params_)\n",
        "print(\"Accuracy with the best parameters: \", grid.score(X_test, y_test))"
      ],
      "metadata": {
        "id": "SzrU8P0hmUSy"
      },
      "execution_count": null,
      "outputs": []
    },
    {
      "cell_type": "markdown",
      "source": [
        "III.Deploying Machine Learning models using best parameters"
      ],
      "metadata": {
        "id": "odg4jf1oxNti"
      }
    },
    {
      "cell_type": "code",
      "execution_count": null,
      "metadata": {
        "id": "sdlhjfGpB3OQ"
      },
      "outputs": [],
      "source": [
        "###### Random Forest Model \n",
        "from sklearn.ensemble import RandomForestClassifier\n",
        "from sklearn import metrics\n",
        "rf = RandomForestClassifier(max_features=12, n_estimators = 100)\n",
        "rf.fit( X_train, y_train )\n",
        "pred_rf = rf.predict(X_val)\n",
        "accuracy_rf= metrics.accuracy_score(y_test, pred_rf)\n",
        "print('Random Forest Accuracy: ', accuracy_rf)"
      ]
    },
    {
      "cell_type": "code",
      "execution_count": null,
      "metadata": {
        "id": "n8c6wtdEOwAj"
      },
      "outputs": [],
      "source": [
        "rf_report = classification_report(y_test, pred_rf)\n",
        "print(rf_report)"
      ]
    },
    {
      "cell_type": "code",
      "execution_count": null,
      "metadata": {
        "id": "K2IOSwyOtiD_"
      },
      "outputs": [],
      "source": [
        "rf_matrix = plot_confusion_matrix(rf, X_test, y_test,\n",
        "                                 cmap=plt.cm.Blues)\n",
        "plt.title('Confusion matrix for Random Forest Classifier')\n",
        "plt.show(rf_matrix)\n",
        "plt.show()"
      ]
    },
    {
      "cell_type": "markdown",
      "metadata": {
        "id": "_M2Yiv2WQPn7"
      },
      "source": [
        ""
      ]
    },
    {
      "cell_type": "code",
      "execution_count": null,
      "metadata": {
        "id": "zrGMJQ2Y7Xt9"
      },
      "outputs": [],
      "source": [
        "############ SUPPORT VECTOR MACHINE ##################\n"
      ]
    },
    {
      "cell_type": "code",
      "execution_count": null,
      "metadata": {
        "id": "61_eDaaN7YCy"
      },
      "outputs": [],
      "source": [
        "\n",
        "# SVC requres standardization of data. \n",
        "# Following columns in Train, Test and Validation will be standardized manually.\n",
        "#\n",
        "col=['f1_v', 'f1_q', 'f1_f','f2_v', 'f2_q', 'f2_f','f3_v', 'f3_q', 'f3_f', 'f4_v', 'f4_q', 'f4_f','f5_v', 'f5_q', 'f5_f','f6_v', 'f6_q', 'f6_f','f7_v', 'f7_q', 'f7_f', 'f8_v', 'f8_q', 'f8_f'] # These columns will be standardized in each data frame\n",
        "X_train_columns = X_train[col]\n",
        "X_train[col] = (X_train_columns-X_train_columns.mean())/X_train_columns.std()\n",
        " #Standardization of Valid and Test data frames using the mean and standard deviation of TRAINING Data Frame.\n",
        "X_val_columns = X_val[col]\n",
        "X_val[col] = (X_val_columns-X_train_columns.mean())/X_train_columns.std() ####### Standardizing X_val using the mean ans std of X_Training\n",
        "\n",
        "X_test_columns = X_test[col]\n",
        "X_test[col] = (X_test_columns-X_train_columns.mean())/X_train_columns.std()     ##### Standardizing X_test using the mean nad std of X_Trainig"
      ]
    },
    {
      "cell_type": "code",
      "execution_count": null,
      "metadata": {
        "id": "vatXpYbfB30w"
      },
      "outputs": [],
      "source": [
        "########## Support Vector Machine ##############\n",
        "from sklearn.svm import SVC\n",
        "clf = SVC(kernel='rbf', C=100, gamma=0.01, random_state=42)\n",
        "clf.fit(X_train,y_train)\n",
        "preds_svc = clf.predict(X_val)\n",
        "accuracy_svc= metrics.accuracy_score(y_test, preds_svc)\n",
        "print('Support Vector Machine: ', accuracy_svc)"
      ]
    },
    {
      "cell_type": "code",
      "execution_count": null,
      "metadata": {
        "id": "oOEjr7TMpYhD"
      },
      "outputs": [],
      "source": [
        "svc_report = classification_report(y_test, preds_svc)\n",
        "print(svc_report)"
      ]
    },
    {
      "cell_type": "code",
      "execution_count": null,
      "metadata": {
        "id": "wCOe_7TCtRtc"
      },
      "outputs": [],
      "source": [
        "svc_matrix = plot_confusion_matrix(clf, X_test, y_test,\n",
        "                                 cmap=plt.cm.Blues)\n",
        "plt.title('Confusion matrix for Support Vector Classifier')\n",
        "plt.show(svc_matrix)\n",
        "plt.show()"
      ]
    },
    {
      "cell_type": "code",
      "execution_count": null,
      "metadata": {
        "id": "Xctih71czW7s"
      },
      "outputs": [],
      "source": [
        ""
      ]
    },
    {
      "cell_type": "markdown",
      "source": [
        "IV: Predicting future churn using our best deployed model: Support Vector Machine with hyper parameters"
      ],
      "metadata": {
        "id": "c0oSM8SxDHUd"
      }
    },
    {
      "cell_type": "code",
      "execution_count": null,
      "metadata": {
        "id": "NbdGjZwlzW_S"
      },
      "outputs": [],
      "source": [
        "# Date of analysis: 2022-03-22 = 608 in our conversion \n",
        "#"
      ]
    },
    {
      "cell_type": "code",
      "execution_count": null,
      "metadata": {
        "id": "-ioRZeZhzXDM"
      },
      "outputs": [],
      "source": [
        "# Predicting for next period: 2022-04-20 or 608+28= 636\n",
        "# 2022-04-20 or 636 is our predition date\n",
        "prediction_day=636\n",
        "output_window_size = 28\n",
        "tumbling_window_size = 7\n",
        "X_test, y_test = get_dataset( prediction_day- output_window_size, tumbling_window_size, output_window_size )\n",
        "X_val, y_val = get_dataset(prediction_day- 2*output_window_size, tumbling_window_size, output_window_size )\n",
        "X_train, y_train = get_dataset( prediction_day - 3*output_window_size, tumbling_window_size, output_window_size )\n"
      ]
    },
    {
      "cell_type": "code",
      "execution_count": null,
      "metadata": {
        "id": "AN2MrPSVzXF1"
      },
      "outputs": [],
      "source": [
        "clf = SVC(kernel='rbf', C=100, gamma=0.01, random_state=42)  ## REMEBER value of gamma and C are hyper parameters\n",
        "clf.fit(X_train,y_train)\n",
        "preds_svc = clf.predict(X_test)\n",
        "#accuracy_svc= metrics.accuracy_score(y_test, preds_svc)\n",
        "#print('Support Vector Machine: ', accuracy_svc)\n",
        "print(preds_svc)"
      ]
    },
    {
      "cell_type": "code",
      "execution_count": null,
      "metadata": {
        "id": "qs-G0cdQVo52"
      },
      "outputs": [],
      "source": [
        "\n",
        "print(clf.predict(X_test))"
      ]
    },
    {
      "cell_type": "code",
      "execution_count": null,
      "metadata": {
        "id": "8azFJlsm_rw3"
      },
      "outputs": [],
      "source": [
        "churn_prediction = pd.DataFrame(preds_svc, index=X_test.index, columns=['Churn_predictions'])"
      ]
    },
    {
      "cell_type": "code",
      "execution_count": null,
      "metadata": {
        "id": "ejkC1It0_r0d"
      },
      "outputs": [],
      "source": [
        "churn_prediction.head()"
      ]
    },
    {
      "cell_type": "code",
      "execution_count": null,
      "metadata": {
        "id": "CxYeph8q-MsO"
      },
      "outputs": [],
      "source": [
        "churn_prediction.Churn_predictions.value_counts()"
      ]
    },
    {
      "cell_type": "code",
      "source": [
        "import plotly.graph_objects as go\n",
        "values=churn_prediction['Churn_predictions'].value_counts()\n",
        "fig = go.Figure(data=[go.Pie(values=values,labels=[1,0], pull=[0.2,0,0,0],title='SVM prediction of churning and non-churnng customers')])\n",
        "fig.show()\n"
      ],
      "metadata": {
        "id": "fNJiFAUUN9r2"
      },
      "execution_count": null,
      "outputs": []
    },
    {
      "cell_type": "markdown",
      "source": [
        "V. Pen-Portraits "
      ],
      "metadata": {
        "id": "xGriIJImIetX"
      }
    },
    {
      "cell_type": "code",
      "execution_count": null,
      "metadata": {
        "id": "8zhus2n8_r3P"
      },
      "outputs": [],
      "source": [
        "# Pen profiles of both classes\n",
        "Pen_port_non_churn=list(churn_prediction[churn_prediction['Churn_predictions']==0].index.values)\n",
        "X_test[X_test.index.isin(Pen_port_non_churn)].describe()"
      ]
    },
    {
      "cell_type": "code",
      "execution_count": null,
      "metadata": {
        "id": "BztZqeXU_r73"
      },
      "outputs": [],
      "source": [
        "Pen_port_churn=list(churn_prediction[churn_prediction['Churn_predictions']==1].index.values)\n",
        "X_test[X_test.index.isin(Pen_port_churn)].describe()\n"
      ]
    },
    {
      "cell_type": "code",
      "execution_count": null,
      "metadata": {
        "id": "8PaBkSxe_r_s"
      },
      "outputs": [],
      "source": [
        "#Creating data frame to do pen profilig for customers. \n",
        "sql = \"\"\"\n",
        "     select customer_id, sum(value) as tot_val, sum(qty) as tot_qty, count(distinct receipt_id) as frequency\n",
        "     from receipts\n",
        "     join receipt_lines\n",
        "     using (receipt_id)\n",
        "     group by customer_id\n",
        "      \"\"\"\n",
        "RFM = %sql {sql}\n",
        "RFM = RFM.DataFrame()"
      ]
    },
    {
      "cell_type": "code",
      "source": [
        "RFM.head()"
      ],
      "metadata": {
        "id": "7gMu9iSX9TAP"
      },
      "execution_count": null,
      "outputs": []
    },
    {
      "cell_type": "code",
      "execution_count": null,
      "metadata": {
        "id": "zc9oapll_sCw"
      },
      "outputs": [],
      "source": [
        "# Let's join two tables \n",
        "pen_pro=pd.concat([RFM,churn_prediction], axis=1)\n"
      ]
    },
    {
      "cell_type": "code",
      "execution_count": null,
      "metadata": {
        "id": "opjjtDNC_sFr"
      },
      "outputs": [],
      "source": [
        "pen_pro.head()"
      ]
    },
    {
      "cell_type": "code",
      "execution_count": null,
      "metadata": {
        "id": "fY28U0-F_sJo"
      },
      "outputs": [],
      "source": [
        "pen_pro_churn = pen_pro[pen_pro['Churn_predictions']==1]\n",
        "pen_pro_nonchu= pen_pro[pen_pro['Churn_predictions']==0]\n",
        "\n",
        "churners = pen_pro_churn.shape[0] \n",
        "print('Number of Churning',churners)\n",
        "\n",
        "Non_churners = pen_pro_nonchu.shape[0] \n",
        "print('Number of Non-churners',Non_churners)"
      ]
    },
    {
      "cell_type": "code",
      "source": [
        "pen_pro_churn.describe()"
      ],
      "metadata": {
        "id": "l2teojSHBTYo"
      },
      "execution_count": null,
      "outputs": []
    },
    {
      "cell_type": "code",
      "source": [
        "pen_pro_nonchu.describe()"
      ],
      "metadata": {
        "id": "qEkC1vUNCXvN"
      },
      "execution_count": null,
      "outputs": []
    },
    {
      "cell_type": "code",
      "execution_count": null,
      "metadata": {
        "id": "SYzCQUeh2lGt"
      },
      "outputs": [],
      "source": [
        ""
      ]
    }
  ],
  "metadata": {
    "colab": {
      "collapsed_sections": [],
      "name": "Machine_Learning_CW20325050.ipynb",
      "provenance": []
    },
    "kernelspec": {
      "display_name": "Python 3",
      "name": "python3"
    },
    "language_info": {
      "name": "python"
    }
  },
  "nbformat": 4,
  "nbformat_minor": 0
}